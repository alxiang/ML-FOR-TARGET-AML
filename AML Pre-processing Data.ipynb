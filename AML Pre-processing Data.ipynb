{
 "cells": [
  {
   "cell_type": "markdown",
   "metadata": {
    "toc": true
   },
   "source": [
    "<h1>Table of Contents<span class=\"tocSkip\"></span></h1>\n",
    "<div class=\"toc\"><ul class=\"toc-item\"><li><span><a href=\"#Gene-Expression-Data-Cleaning\" data-toc-modified-id=\"Gene-Expression-Data-Cleaning-1\"><span class=\"toc-item-num\">1&nbsp;&nbsp;</span>Gene Expression Data Cleaning</a></span></li><li><span><a href=\"#Clinical-Classification-Target-Extraction\" data-toc-modified-id=\"Clinical-Classification-Target-Extraction-2\"><span class=\"toc-item-num\">2&nbsp;&nbsp;</span>Clinical Classification Target Extraction</a></span></li><li><span><a href=\"#Data-Harmonization-and-Normalization\" data-toc-modified-id=\"Data-Harmonization-and-Normalization-3\"><span class=\"toc-item-num\">3&nbsp;&nbsp;</span>Data Harmonization and Normalization</a></span><ul class=\"toc-item\"><li><span><a href=\"#Harmonization\" data-toc-modified-id=\"Harmonization-3.1\"><span class=\"toc-item-num\">3.1&nbsp;&nbsp;</span>Harmonization</a></span></li><li><span><a href=\"#Normalization\" data-toc-modified-id=\"Normalization-3.2\"><span class=\"toc-item-num\">3.2&nbsp;&nbsp;</span>Normalization</a></span></li></ul></li></ul></div>"
   ]
  },
  {
   "cell_type": "code",
   "execution_count": 1,
   "metadata": {
    "code_folding": [
     0
    ]
   },
   "outputs": [
    {
     "name": "stdout",
     "output_type": "stream",
     "text": [
      "Python version: 3.6.6 |Anaconda custom (64-bit)| (default, Jun 28 2018, 11:07:29) \n",
      "[GCC 4.2.1 Compatible Clang 4.0.1 (tags/RELEASE_401/final)]\n",
      "OS version: posix.uname_result(sysname='Darwin', nodename='Bings-MacBook-Pro.local', release='17.4.0', version='Darwin Kernel Version 17.4.0: Sun Dec 17 09:19:54 PST 2017; root:xnu-4570.41.2~1/RELEASE_X86_64', machine='x86_64')\n",
      "pandas version: 0.23.1\n",
      "matplotlib version: 2.2.2\n",
      "NumPy version: 1.14.5\n",
      "SciPy version: 1.1.0\n",
      "scikit-learn version: 0.19.1\n",
      "-------------------------\n"
     ]
    }
   ],
   "source": [
    "# Packages\n",
    "\n",
    "import sys\n",
    "print(\"Python version: {}\". format(sys.version))\n",
    "\n",
    "import os\n",
    "print(\"OS version: {}\". format(os.uname()))\n",
    "\n",
    "import pandas as pd\n",
    "print(\"pandas version: {}\". format(pd.__version__))\n",
    "\n",
    "import matplotlib\n",
    "print(\"matplotlib version: {}\". format(matplotlib.__version__))\n",
    "import matplotlib.pyplot as plt\n",
    "\n",
    "import numpy as np\n",
    "print(\"NumPy version: {}\". format(np.__version__))\n",
    "\n",
    "import scipy as sp \n",
    "print(\"SciPy version: {}\". format(sp.__version__)) \n",
    "\n",
    "import sklearn \n",
    "print(\"scikit-learn version: {}\". format(sklearn.__version__))\n",
    "\n",
    "#misc\n",
    "import random\n",
    "import time\n",
    "\n",
    "print('-'*25)"
   ]
  },
  {
   "cell_type": "code",
   "execution_count": 2,
   "metadata": {},
   "outputs": [],
   "source": [
    "PATH = \"AML-DATA/\"\n",
    "masterGen = pd.read_pickle(PATH + \"PD-TARGET-AML-GE\")\n",
    "discoveryClin = pd.read_pickle(PATH + \"PD-TARGET-AML-Discovery-ClinicalData\")\n",
    "validationClin = pd.read_pickle(PATH + \"PD-TARGET-AML-Validation-ClinicalData\")\n"
   ]
  },
  {
   "cell_type": "markdown",
   "metadata": {},
   "source": [
    "## Gene Expression Data Cleaning"
   ]
  },
  {
   "cell_type": "code",
   "execution_count": 3,
   "metadata": {},
   "outputs": [
    {
     "data": {
      "text/plain": [
       "0"
      ]
     },
     "execution_count": 3,
     "metadata": {},
     "output_type": "execute_result"
    }
   ],
   "source": [
    "# No null values\n",
    "masterGen.isnull().sum().sum()"
   ]
  },
  {
   "cell_type": "code",
   "execution_count": 4,
   "metadata": {},
   "outputs": [
    {
     "name": "stdout",
     "output_type": "stream",
     "text": [
      "Duplicate patients removed: 0\n"
     ]
    }
   ],
   "source": [
    "# Duplicate Probes or Genes / Rows or Columns\n",
    "colCount = masterGen.shape[1]\n",
    "masterGen = masterGen.loc[:,~masterGen.columns.duplicated()]\n",
    "print(\"Duplicate patients removed: \" + str(colCount - masterGen.shape[1]))\n"
   ]
  },
  {
   "cell_type": "code",
   "execution_count": 5,
   "metadata": {},
   "outputs": [
    {
     "name": "stdout",
     "output_type": "stream",
     "text": [
      "Duplicate probes removed: 0\n"
     ]
    }
   ],
   "source": [
    "# masterGen temporarily transposed for ease of column access\n",
    "masterGen = masterGen.T\n",
    "\n",
    "# Duplicate Probes or Genes / Rows or Columns\n",
    "colCount = masterGen.shape[1]\n",
    "masterGen = masterGen.loc[:,~masterGen.columns.duplicated()]\n",
    "print(\"Duplicate probes removed: \" + str(colCount - masterGen.shape[1]))\n"
   ]
  },
  {
   "cell_type": "code",
   "execution_count": 6,
   "metadata": {},
   "outputs": [
    {
     "name": "stdout",
     "output_type": "stream",
     "text": [
      "Probes/Columns with 0 variance removed: 0\n"
     ]
    }
   ],
   "source": [
    "# No variance\n",
    "colCount = masterGen.shape[1]\n",
    "masterGen.drop(masterGen.std()[(masterGen.std() == 0)].index, axis=1)\n",
    "print(\"Probes/Columns with 0 variance removed: \" + str(colCount - masterGen.shape[1]))\n",
    "# master Gen un-transposed\n",
    "masterGen.T;\n",
    "    "
   ]
  },
  {
   "cell_type": "code",
   "execution_count": 7,
   "metadata": {},
   "outputs": [
    {
     "name": "stdout",
     "output_type": "stream",
     "text": [
      "False\n"
     ]
    }
   ],
   "source": [
    "# Check for null/infinite values (should print 'False')\n",
    "print(np.any(pd.isnull(masterGen.T)))"
   ]
  },
  {
   "cell_type": "markdown",
   "metadata": {},
   "source": [
    "## Clinical Classification Target Extraction\n",
    "Relapse - recurrence of a past medical condition\n",
    "\n",
    "Censored - observation period (study) was cut off before the event occurred (relapse occured)\n",
    "\n",
    "Note: In the future other clinical features (age, race, gender) can be extracted for use in relapse prediction.\n",
    "\n",
    "Note2: For now, patients not relapsed or censored are dropped\n",
    "\n"
   ]
  },
  {
   "cell_type": "code",
   "execution_count": 8,
   "metadata": {},
   "outputs": [],
   "source": [
    "discoveryClin = discoveryClin.T\n",
    "\n",
    "validationClin = validationClin.T"
   ]
  },
  {
   "cell_type": "code",
   "execution_count": 9,
   "metadata": {},
   "outputs": [
    {
     "name": "stdout",
     "output_type": "stream",
     "text": [
      "Relapse     218\n",
      "Censored    163\n",
      "Name: First Event, dtype: int64\n",
      "------------------------------\n",
      "Censored    342\n",
      "Relapse     160\n",
      "Name: First Event, dtype: int64\n"
     ]
    }
   ],
   "source": [
    "discoveryClin = discoveryClin[discoveryClin[\"First Event\"].isin([\"Censored\", \"Relapse\"])]\n",
    "print(discoveryClin[\"First Event\"].value_counts())\n",
    "print(\"-\"*30)\n",
    "\n",
    "validationClin = validationClin[validationClin[\"First Event\"].isin([\"Censored\", \"Relapse\"])]\n",
    "\n",
    "print(validationClin[\"First Event\"].value_counts())                                       "
   ]
  },
  {
   "cell_type": "code",
   "execution_count": 10,
   "metadata": {},
   "outputs": [
    {
     "name": "stdout",
     "output_type": "stream",
     "text": [
      "883\n",
      "Censored    505\n",
      "Relapse     378\n",
      "Name: First Event, dtype: int64\n"
     ]
    }
   ],
   "source": [
    "masterClin = pd.concat([discoveryClin, validationClin])\n",
    "print(len(masterClin))\n",
    "print(masterClin[\"First Event\"].value_counts())\n"
   ]
  },
  {
   "cell_type": "code",
   "execution_count": 11,
   "metadata": {},
   "outputs": [],
   "source": [
    "from sklearn.preprocessing import LabelBinarizer\n",
    "\n",
    "labelbinarizer = LabelBinarizer()\n",
    "masterClin[\"First Event\"] = pd.Series(labelbinarizer.fit_transform(masterClin[\"First Event\"]).transpose()[0],\n",
    "                                      index = masterClin.index)"
   ]
  },
  {
   "cell_type": "markdown",
   "metadata": {},
   "source": [
    "## Data Harmonization and Normalization"
   ]
  },
  {
   "cell_type": "markdown",
   "metadata": {},
   "source": [
    "### Harmonization"
   ]
  },
  {
   "cell_type": "code",
   "execution_count": 12,
   "metadata": {},
   "outputs": [
    {
     "data": {
      "text/plain": [
       "780"
      ]
     },
     "execution_count": 12,
     "metadata": {},
     "output_type": "execute_result"
    }
   ],
   "source": [
    "masterClin = masterClin[~masterClin.index.duplicated(keep='first')]\n",
    "len(masterClin)"
   ]
  },
  {
   "cell_type": "code",
   "execution_count": 13,
   "metadata": {},
   "outputs": [
    {
     "data": {
      "text/plain": [
       "Index(['Gender', 'Race', 'Ethnicity', 'Age at Diagnosis in Days',\n",
       "       'First Event', 'Event Free Survival Time in Days', 'Vital Status',\n",
       "       'Overall Survival Time in Days', 'Year of Diagnosis',\n",
       "       'Year of Last Follow Up', 'Protocol', 'WBC at Diagnosis',\n",
       "       'Bone marrow leukemic blast percentage (%)', 'Peripheral blasts (%)',\n",
       "       'CNS disease', 'Chloroma', 'FAB Category', 't(6;9)', 't(8;21)',\n",
       "       't(3;5)(q25;q34)', 't(6;11)(q27;q23)', 't(9;11)(p22;q23)',\n",
       "       't(10;11)(p11.2;q23)', 't(11:19)(q23:p13.1)', 'inv(16)', 'del5q',\n",
       "       'del7q', 'del9q', 'monosomy 5', 'monosomy 7', 'trisomy 8', 'trisomy 21',\n",
       "       'MLL', 'Minus Y', 'Minus X', 'Cytogenetic Code Other',\n",
       "       'Cytogenetic Complexity', 'Primary Cytogenetic Code', 'ISCN',\n",
       "       'FLT3/ITD positive?', 'FLT3/ITD allelic ratio', 'FLT3 PM',\n",
       "       'NPM mutation', 'CEBPA mutation', 'WT1 mutation',\n",
       "       'c-Kit Mutation Exon 8', 'c-Kit Mutation Exon 17',\n",
       "       'MRD at end of course 1', 'MRD % at end of course 1',\n",
       "       'MRD at end of course 2', 'MRD % at end of course 2',\n",
       "       'CR status at end of course 1', 'CR status at end of course 2',\n",
       "       'Risk group', 'SCT in 1st CR',\n",
       "       'Bone Marrow Site of Relapse/Induction Failure',\n",
       "       'CNS Site of Relapse/Induction Failure',\n",
       "       'Chloroma Site of Relapse/Induction Failure',\n",
       "       'Cytogenetic Site of Relapse/Induction Failure',\n",
       "       'Other Site of Relapse/Induction Failure', 'Comment',\n",
       "       'Refractory Timepoint sent for Induction Failure Project'],\n",
       "      dtype='object')"
      ]
     },
     "execution_count": 13,
     "metadata": {},
     "output_type": "execute_result"
    }
   ],
   "source": [
    "masterClin.columns"
   ]
  },
  {
   "cell_type": "code",
   "execution_count": 14,
   "metadata": {},
   "outputs": [],
   "source": [
    "masterClin = masterClin[[\"First Event\", \"inv(16)\", \"t(8;21)\", \"Risk group\"]]"
   ]
  },
  {
   "cell_type": "code",
   "execution_count": 15,
   "metadata": {},
   "outputs": [],
   "source": [
    "#Drop repeated measurements for patient id's, taking the first measurement available\n",
    "safeList = []\n",
    "dropList = []\n",
    "\n",
    "for patid in masterGen.index:\n",
    "    if(patid[:16] not in safeList):\n",
    "        safeList.append(patid[:16])\n",
    "    else:\n",
    "        dropList.append(patid)\n",
    "masterGen.drop(dropList, axis = 0, inplace = True)\n",
    "        \n",
    "        \n"
   ]
  },
  {
   "cell_type": "code",
   "execution_count": 16,
   "metadata": {},
   "outputs": [],
   "source": [
    "masterGen.rename(lambda x: x[0:16], inplace = True)"
   ]
  },
  {
   "cell_type": "code",
   "execution_count": 17,
   "metadata": {},
   "outputs": [],
   "source": [
    "masterGen = pd.concat([masterGen, masterClin], join = \"outer\", axis=1, sort=True)"
   ]
  },
  {
   "cell_type": "code",
   "execution_count": 18,
   "metadata": {},
   "outputs": [],
   "source": [
    "# Now masterGen contains all patients with clinical outcomes and gene expression data\n",
    "\n",
    "len(masterGen)\n",
    "\n",
    "masterGen.dropna(axis = 0, inplace = True)\n",
    "\n",
    "#masterGen = masterGen[masterGen['Risk group'] == \"Low\"]"
   ]
  },
  {
   "cell_type": "code",
   "execution_count": 19,
   "metadata": {},
   "outputs": [
    {
     "name": "stdout",
     "output_type": "stream",
     "text": [
      "215 selected patients\n"
     ]
    }
   ],
   "source": [
    "print(str(len(masterGen)) + \" selected patients\")"
   ]
  },
  {
   "cell_type": "code",
   "execution_count": 20,
   "metadata": {},
   "outputs": [],
   "source": [
    "# Separating\n",
    "    \n",
    "masterClin = masterGen[\"First Event\"]\n",
    "\n",
    "masterGen.drop([\"First Event\", \"inv(16)\", \"t(8;21)\", \"Risk group\"], axis = 1, inplace = True)\n"
   ]
  },
  {
   "cell_type": "code",
   "execution_count": 21,
   "metadata": {},
   "outputs": [
    {
     "name": "stdout",
     "output_type": "stream",
     "text": [
      "1.0    110\n",
      "0.0    105\n",
      "Name: First Event, dtype: int64\n"
     ]
    }
   ],
   "source": [
    "print(masterClin.value_counts())"
   ]
  },
  {
   "cell_type": "markdown",
   "metadata": {},
   "source": [
    "### Normalization"
   ]
  },
  {
   "cell_type": "raw",
   "metadata": {},
   "source": [
    "# Quantile normalization to normalize gene expression values between patient samples\n",
    "from sklearn.preprocessing import QuantileTransformer\n",
    "\n",
    "quantiletransformer = QuantileTransformer(random_state = 8888)\n",
    "masterGen = pd.DataFrame(quantiletransformer.fit_transform(masterGen), index = masterGen.index, columns = masterGen.columns) "
   ]
  },
  {
   "cell_type": "code",
   "execution_count": 22,
   "metadata": {},
   "outputs": [],
   "source": [
    "# Standardization\n",
    "masterGen = pd.DataFrame((masterGen-masterGen.mean())/masterGen.std(),\n",
    "                          index = masterGen.index, columns = masterGen.columns)\n"
   ]
  },
  {
   "cell_type": "code",
   "execution_count": 23,
   "metadata": {},
   "outputs": [
    {
     "data": {
      "text/html": [
       "<div>\n",
       "<style scoped>\n",
       "    .dataframe tbody tr th:only-of-type {\n",
       "        vertical-align: middle;\n",
       "    }\n",
       "\n",
       "    .dataframe tbody tr th {\n",
       "        vertical-align: top;\n",
       "    }\n",
       "\n",
       "    .dataframe thead th {\n",
       "        text-align: right;\n",
       "    }\n",
       "</style>\n",
       "<table border=\"1\" class=\"dataframe\">\n",
       "  <thead>\n",
       "    <tr style=\"text-align: right;\">\n",
       "      <th></th>\n",
       "      <th>7892501</th>\n",
       "      <th>7892502</th>\n",
       "      <th>7892503</th>\n",
       "      <th>7892504</th>\n",
       "      <th>7892505</th>\n",
       "      <th>7892506</th>\n",
       "      <th>7892507</th>\n",
       "      <th>7892508</th>\n",
       "      <th>7892509</th>\n",
       "      <th>7892510</th>\n",
       "      <th>...</th>\n",
       "      <th>8180409</th>\n",
       "      <th>8180410</th>\n",
       "      <th>8180411</th>\n",
       "      <th>8180412</th>\n",
       "      <th>8180413</th>\n",
       "      <th>8180414</th>\n",
       "      <th>8180415</th>\n",
       "      <th>8180416</th>\n",
       "      <th>8180417</th>\n",
       "      <th>8180418</th>\n",
       "    </tr>\n",
       "  </thead>\n",
       "  <tbody>\n",
       "    <tr>\n",
       "      <th>TARGET-20-PABHET</th>\n",
       "      <td>0.115702</td>\n",
       "      <td>-0.659919</td>\n",
       "      <td>0.990606</td>\n",
       "      <td>0.747772</td>\n",
       "      <td>-1.375789</td>\n",
       "      <td>-0.409011</td>\n",
       "      <td>1.311737</td>\n",
       "      <td>0.535296</td>\n",
       "      <td>-1.791495</td>\n",
       "      <td>0.927586</td>\n",
       "      <td>...</td>\n",
       "      <td>-2.229502</td>\n",
       "      <td>-0.608278</td>\n",
       "      <td>0.076543</td>\n",
       "      <td>-1.519721</td>\n",
       "      <td>-1.316819</td>\n",
       "      <td>0.716646</td>\n",
       "      <td>1.459256</td>\n",
       "      <td>-0.503649</td>\n",
       "      <td>1.087119</td>\n",
       "      <td>-0.128625</td>\n",
       "    </tr>\n",
       "    <tr>\n",
       "      <th>TARGET-20-PABHKY</th>\n",
       "      <td>-0.805107</td>\n",
       "      <td>0.122982</td>\n",
       "      <td>-0.753118</td>\n",
       "      <td>0.840004</td>\n",
       "      <td>0.198071</td>\n",
       "      <td>0.036457</td>\n",
       "      <td>0.253967</td>\n",
       "      <td>0.495582</td>\n",
       "      <td>-0.873414</td>\n",
       "      <td>0.904921</td>\n",
       "      <td>...</td>\n",
       "      <td>-0.301883</td>\n",
       "      <td>-1.958429</td>\n",
       "      <td>1.069414</td>\n",
       "      <td>-0.566574</td>\n",
       "      <td>-0.589981</td>\n",
       "      <td>-0.118408</td>\n",
       "      <td>0.479627</td>\n",
       "      <td>-0.355877</td>\n",
       "      <td>-0.853341</td>\n",
       "      <td>-0.730754</td>\n",
       "    </tr>\n",
       "    <tr>\n",
       "      <th>TARGET-20-PACDZR</th>\n",
       "      <td>-0.339787</td>\n",
       "      <td>1.371373</td>\n",
       "      <td>2.020408</td>\n",
       "      <td>1.097878</td>\n",
       "      <td>-1.157914</td>\n",
       "      <td>-0.414955</td>\n",
       "      <td>-0.196788</td>\n",
       "      <td>1.296102</td>\n",
       "      <td>-0.554066</td>\n",
       "      <td>1.023062</td>\n",
       "      <td>...</td>\n",
       "      <td>-1.226867</td>\n",
       "      <td>-0.020957</td>\n",
       "      <td>-0.217985</td>\n",
       "      <td>0.398909</td>\n",
       "      <td>0.408032</td>\n",
       "      <td>-0.200669</td>\n",
       "      <td>-0.017515</td>\n",
       "      <td>1.840733</td>\n",
       "      <td>0.542958</td>\n",
       "      <td>-1.363206</td>\n",
       "    </tr>\n",
       "    <tr>\n",
       "      <th>TARGET-20-PACEGD</th>\n",
       "      <td>0.333312</td>\n",
       "      <td>1.773869</td>\n",
       "      <td>-0.753256</td>\n",
       "      <td>-0.678328</td>\n",
       "      <td>0.073581</td>\n",
       "      <td>0.105472</td>\n",
       "      <td>0.616729</td>\n",
       "      <td>0.496480</td>\n",
       "      <td>0.493032</td>\n",
       "      <td>0.074393</td>\n",
       "      <td>...</td>\n",
       "      <td>-0.487050</td>\n",
       "      <td>0.546995</td>\n",
       "      <td>-0.041996</td>\n",
       "      <td>-0.146195</td>\n",
       "      <td>-0.186364</td>\n",
       "      <td>-0.612194</td>\n",
       "      <td>-1.198603</td>\n",
       "      <td>-0.285108</td>\n",
       "      <td>0.143702</td>\n",
       "      <td>-0.579833</td>\n",
       "    </tr>\n",
       "    <tr>\n",
       "      <th>TARGET-20-PADDXZ</th>\n",
       "      <td>0.038041</td>\n",
       "      <td>-0.605163</td>\n",
       "      <td>-0.191480</td>\n",
       "      <td>0.657912</td>\n",
       "      <td>-0.359776</td>\n",
       "      <td>1.491079</td>\n",
       "      <td>0.093595</td>\n",
       "      <td>1.014715</td>\n",
       "      <td>-0.392931</td>\n",
       "      <td>1.832531</td>\n",
       "      <td>...</td>\n",
       "      <td>-1.033166</td>\n",
       "      <td>-0.498025</td>\n",
       "      <td>-0.335870</td>\n",
       "      <td>-0.115277</td>\n",
       "      <td>-0.129279</td>\n",
       "      <td>0.100960</td>\n",
       "      <td>-0.958352</td>\n",
       "      <td>0.021327</td>\n",
       "      <td>0.157577</td>\n",
       "      <td>-0.529318</td>\n",
       "    </tr>\n",
       "  </tbody>\n",
       "</table>\n",
       "<p>5 rows × 33297 columns</p>\n",
       "</div>"
      ],
      "text/plain": [
       "                   7892501   7892502   7892503   7892504   7892505   7892506  \\\n",
       "TARGET-20-PABHET  0.115702 -0.659919  0.990606  0.747772 -1.375789 -0.409011   \n",
       "TARGET-20-PABHKY -0.805107  0.122982 -0.753118  0.840004  0.198071  0.036457   \n",
       "TARGET-20-PACDZR -0.339787  1.371373  2.020408  1.097878 -1.157914 -0.414955   \n",
       "TARGET-20-PACEGD  0.333312  1.773869 -0.753256 -0.678328  0.073581  0.105472   \n",
       "TARGET-20-PADDXZ  0.038041 -0.605163 -0.191480  0.657912 -0.359776  1.491079   \n",
       "\n",
       "                   7892507   7892508   7892509   7892510    ...      8180409  \\\n",
       "TARGET-20-PABHET  1.311737  0.535296 -1.791495  0.927586    ...    -2.229502   \n",
       "TARGET-20-PABHKY  0.253967  0.495582 -0.873414  0.904921    ...    -0.301883   \n",
       "TARGET-20-PACDZR -0.196788  1.296102 -0.554066  1.023062    ...    -1.226867   \n",
       "TARGET-20-PACEGD  0.616729  0.496480  0.493032  0.074393    ...    -0.487050   \n",
       "TARGET-20-PADDXZ  0.093595  1.014715 -0.392931  1.832531    ...    -1.033166   \n",
       "\n",
       "                   8180410   8180411   8180412   8180413   8180414   8180415  \\\n",
       "TARGET-20-PABHET -0.608278  0.076543 -1.519721 -1.316819  0.716646  1.459256   \n",
       "TARGET-20-PABHKY -1.958429  1.069414 -0.566574 -0.589981 -0.118408  0.479627   \n",
       "TARGET-20-PACDZR -0.020957 -0.217985  0.398909  0.408032 -0.200669 -0.017515   \n",
       "TARGET-20-PACEGD  0.546995 -0.041996 -0.146195 -0.186364 -0.612194 -1.198603   \n",
       "TARGET-20-PADDXZ -0.498025 -0.335870 -0.115277 -0.129279  0.100960 -0.958352   \n",
       "\n",
       "                   8180416   8180417   8180418  \n",
       "TARGET-20-PABHET -0.503649  1.087119 -0.128625  \n",
       "TARGET-20-PABHKY -0.355877 -0.853341 -0.730754  \n",
       "TARGET-20-PACDZR  1.840733  0.542958 -1.363206  \n",
       "TARGET-20-PACEGD -0.285108  0.143702 -0.579833  \n",
       "TARGET-20-PADDXZ  0.021327  0.157577 -0.529318  \n",
       "\n",
       "[5 rows x 33297 columns]"
      ]
     },
     "execution_count": 23,
     "metadata": {},
     "output_type": "execute_result"
    }
   ],
   "source": [
    "masterGen.head()"
   ]
  },
  {
   "cell_type": "code",
   "execution_count": 24,
   "metadata": {},
   "outputs": [],
   "source": [
    "masterGen.to_pickle(\"AML-DATA/PROCESSED-TARGET-AML-X.pkl\")\n",
    "masterClin.to_pickle(\"AML-DATA/PROCESSED-TARGET-AML-Y.pkl\") "
   ]
  },
  {
   "cell_type": "code",
   "execution_count": null,
   "metadata": {},
   "outputs": [],
   "source": []
  }
 ],
 "metadata": {
  "kernelspec": {
   "display_name": "Python 3",
   "language": "python",
   "name": "python3"
  },
  "language_info": {
   "codemirror_mode": {
    "name": "ipython",
    "version": 3
   },
   "file_extension": ".py",
   "mimetype": "text/x-python",
   "name": "python",
   "nbconvert_exporter": "python",
   "pygments_lexer": "ipython3",
   "version": "3.6.6"
  },
  "toc": {
   "nav_menu": {},
   "number_sections": true,
   "sideBar": true,
   "skip_h1_title": true,
   "title_cell": "Table of Contents",
   "title_sidebar": "Contents",
   "toc_cell": true,
   "toc_position": {},
   "toc_section_display": true,
   "toc_window_display": false
  }
 },
 "nbformat": 4,
 "nbformat_minor": 1
}
