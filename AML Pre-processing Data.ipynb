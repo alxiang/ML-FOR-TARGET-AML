{
 "cells": [
  {
   "cell_type": "raw",
   "metadata": {},
   "source": [
    "Project Steps:\n",
    "    Preprocessing:\n",
    "        1. Gene Expression Data Cleaning\n",
    "        2. Clinical Classification Target Extraction\n",
    "        3. Data Harmonization and Normalization\n",
    "    \n",
    "    Classification:\n",
    "        4. Feature Selection vs. Dimensionality Reduction\n",
    "        5. Data Visualization (PCA, t-SNE, other)\n",
    "        (6. SMOTE)\n",
    "        7. Classification with SVM, Random Forest, Gradient Boosting, Logistic Regression, KNN, Voting\n",
    "        8. Validation and Evaluation"
   ]
  },
  {
   "cell_type": "markdown",
   "metadata": {
    "toc": true
   },
   "source": [
    "<h1>Table of Contents<span class=\"tocSkip\"></span></h1>\n",
    "<div class=\"toc\"><ul class=\"toc-item\"><li><span><a href=\"#Gene-Expression-Data-Cleaning\" data-toc-modified-id=\"Gene-Expression-Data-Cleaning-1\"><span class=\"toc-item-num\">1&nbsp;&nbsp;</span>Gene Expression Data Cleaning</a></span></li><li><span><a href=\"#Clinical-Classification-Target-Extraction\" data-toc-modified-id=\"Clinical-Classification-Target-Extraction-2\"><span class=\"toc-item-num\">2&nbsp;&nbsp;</span>Clinical Classification Target Extraction</a></span></li><li><span><a href=\"#Data-Harmonization-and-Normalization\" data-toc-modified-id=\"Data-Harmonization-and-Normalization-3\"><span class=\"toc-item-num\">3&nbsp;&nbsp;</span>Data Harmonization and Normalization</a></span></li></ul></div>"
   ]
  },
  {
   "cell_type": "code",
   "execution_count": 16,
   "metadata": {
    "code_folding": [
     0
    ],
    "scrolled": true
   },
   "outputs": [
    {
     "name": "stdout",
     "output_type": "stream",
     "text": [
      "Python version: 3.6.6 |Anaconda custom (64-bit)| (default, Jun 28 2018, 11:07:29) \n",
      "[GCC 4.2.1 Compatible Clang 4.0.1 (tags/RELEASE_401/final)]\n",
      "OS version: posix.uname_result(sysname='Darwin', nodename='Bings-MacBook-Pro.local', release='17.4.0', version='Darwin Kernel Version 17.4.0: Sun Dec 17 09:19:54 PST 2017; root:xnu-4570.41.2~1/RELEASE_X86_64', machine='x86_64')\n",
      "pandas version: 0.23.1\n",
      "matplotlib version: 2.2.2\n",
      "NumPy version: 1.14.5\n",
      "SciPy version: 1.1.0\n",
      "scikit-learn version: 0.19.1\n",
      "-------------------------\n"
     ]
    }
   ],
   "source": [
    "# Packages\n",
    "\n",
    "import sys\n",
    "print(\"Python version: {}\". format(sys.version))\n",
    "\n",
    "import os\n",
    "print(\"OS version: {}\". format(os.uname()))\n",
    "\n",
    "import pandas as pd\n",
    "print(\"pandas version: {}\". format(pd.__version__))\n",
    "\n",
    "import matplotlib\n",
    "print(\"matplotlib version: {}\". format(matplotlib.__version__))\n",
    "import matplotlib.pyplot as plt\n",
    "\n",
    "import numpy as np\n",
    "print(\"NumPy version: {}\". format(np.__version__))\n",
    "\n",
    "import scipy as sp \n",
    "print(\"SciPy version: {}\". format(sp.__version__)) \n",
    "\n",
    "import sklearn \n",
    "print(\"scikit-learn version: {}\". format(sklearn.__version__))\n",
    "\n",
    "#misc\n",
    "import random\n",
    "import time\n",
    "\n",
    "print('-'*25)"
   ]
  },
  {
   "cell_type": "code",
   "execution_count": 28,
   "metadata": {},
   "outputs": [],
   "source": [
    "PATH = \"AML-DATA/\"\n",
    "\n",
    "masterGen = pd.read_pickle(PATH + \"PD-TARGET-AML-GE\")\n",
    "discoveryClin = pd.read_pickle(PATH + \"PD-TARGET-AML-Discovery-ClinicalData\")\n",
    "validationClin = pd.read_pickle(PATH + \"PD-TARGET-AML-Validation-ClinicalData\")"
   ]
  },
  {
   "cell_type": "markdown",
   "metadata": {},
   "source": [
    "## Gene Expression Data Cleaning"
   ]
  },
  {
   "cell_type": "code",
   "execution_count": 29,
   "metadata": {},
   "outputs": [
    {
     "data": {
      "text/plain": [
       "0"
      ]
     },
     "execution_count": 29,
     "metadata": {},
     "output_type": "execute_result"
    }
   ],
   "source": [
    "# No null values\n",
    "masterGen.isnull().sum().sum()"
   ]
  },
  {
   "cell_type": "code",
   "execution_count": 30,
   "metadata": {},
   "outputs": [
    {
     "name": "stdout",
     "output_type": "stream",
     "text": [
      "Duplicate patients removed: 0\n"
     ]
    }
   ],
   "source": [
    "# Duplicate Probes or Genes / Rows or Columns\n",
    "colCount = masterGen.shape[1]\n",
    "masterGen = masterGen.loc[:,~masterGen.columns.duplicated()]\n",
    "print(\"Duplicate patients removed: \" + str(colCount - masterGen.shape[1]))"
   ]
  },
  {
   "cell_type": "code",
   "execution_count": 31,
   "metadata": {},
   "outputs": [
    {
     "name": "stdout",
     "output_type": "stream",
     "text": [
      "Duplicate probes removed: 0\n"
     ]
    }
   ],
   "source": [
    "# masterGen temporarily transposed for ease of column access\n",
    "masterGen = masterGen.T\n",
    "\n",
    "# Duplicate Probes or Genes / Rows or Columns\n",
    "colCount = masterGen.shape[1]\n",
    "masterGen = masterGen.loc[:,~masterGen.columns.duplicated()]\n",
    "print(\"Duplicate probes removed: \" + str(colCount - masterGen.shape[1]))\n"
   ]
  },
  {
   "cell_type": "code",
   "execution_count": 32,
   "metadata": {},
   "outputs": [
    {
     "name": "stdout",
     "output_type": "stream",
     "text": [
      "Probes/Columns with 0 variance removed: 0\n"
     ]
    }
   ],
   "source": [
    "# No variance\n",
    "colCount = masterGen.shape[1]\n",
    "masterGen.drop(masterGen.std()[(masterGen.std() == 0)].index, axis=1)\n",
    "print(\"Probes/Columns with 0 variance removed: \" + str(colCount - masterGen.shape[1]))\n",
    "\n",
    "# master Gen un-transposed\n",
    "masterGen.T;"
   ]
  },
  {
   "cell_type": "code",
   "execution_count": 33,
   "metadata": {},
   "outputs": [
    {
     "name": "stdout",
     "output_type": "stream",
     "text": [
      "False\n"
     ]
    }
   ],
   "source": [
    "# Check for null/infinite values (should print 'False')\n",
    "print(np.any(pd.isnull(masterGen.T)))"
   ]
  },
  {
   "cell_type": "markdown",
   "metadata": {},
   "source": [
    "## Clinical Classification Target Extraction\n",
    "\n",
    "Relapse - recurrence of a past medical condition\n",
    "\n",
    "Censored - observation period (study) was cut off before the event occurred (relapse occured)\n",
    "\n",
    "\n",
    "Note: In the future other clinical features (age, race, gender) can be extracted for use in relapse prediction.\n",
    "\n",
    "Note2: For now, patients not relapsed or censored are dropped"
   ]
  },
  {
   "cell_type": "code",
   "execution_count": 34,
   "metadata": {},
   "outputs": [],
   "source": [
    "discoveryClin = discoveryClin.T[\"First Event\"]\n",
    "validationClin = validationClin.T[\"First Event\"]"
   ]
  },
  {
   "cell_type": "code",
   "execution_count": 35,
   "metadata": {},
   "outputs": [
    {
     "name": "stdout",
     "output_type": "stream",
     "text": [
      "Relapse     218\n",
      "Censored    163\n",
      "Name: First Event, dtype: int64\n",
      "------------------------------\n",
      "Censored    342\n",
      "Relapse     160\n",
      "Name: First Event, dtype: int64\n"
     ]
    }
   ],
   "source": [
    "discoveryClin = discoveryClin[discoveryClin.isin([\"Censored\", \"Relapse\"])]\n",
    "print(discoveryClin.value_counts())\n",
    "\n",
    "print(\"-\"*30)\n",
    "\n",
    "validationClin = validationClin[validationClin.isin([\"Censored\", \"Relapse\"])]\n",
    "print(validationClin.value_counts())"
   ]
  },
  {
   "cell_type": "code",
   "execution_count": 37,
   "metadata": {},
   "outputs": [],
   "source": [
    "from sklearn.preprocessing import LabelBinarizer\n",
    "\n",
    "labelbinarizer = LabelBinarizer()\n",
    "discoveryClin = pd.DataFrame(labelbinarizer.fit_transform(discoveryClin), index = discoveryClin.index)\n",
    "validationClin = pd.DataFrame(labelbinarizer.fit_transform(validationClin), index = validationClin.index)"
   ]
  },
  {
   "cell_type": "markdown",
   "metadata": {},
   "source": [
    "## Data Harmonization and Normalization"
   ]
  },
  {
   "cell_type": "code",
   "execution_count": null,
   "metadata": {},
   "outputs": [],
   "source": []
  }
 ],
 "metadata": {
  "kernelspec": {
   "display_name": "Python 3",
   "language": "python",
   "name": "python3"
  },
  "language_info": {
   "codemirror_mode": {
    "name": "ipython",
    "version": 3
   },
   "file_extension": ".py",
   "mimetype": "text/x-python",
   "name": "python",
   "nbconvert_exporter": "python",
   "pygments_lexer": "ipython3",
   "version": "3.6.6"
  },
  "toc": {
   "nav_menu": {},
   "number_sections": true,
   "sideBar": true,
   "skip_h1_title": true,
   "title_cell": "Table of Contents",
   "title_sidebar": "Contents",
   "toc_cell": true,
   "toc_position": {},
   "toc_section_display": true,
   "toc_window_display": false
  }
 },
 "nbformat": 4,
 "nbformat_minor": 2
}
