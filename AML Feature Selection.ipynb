{
 "cells": [
  {
   "cell_type": "raw",
   "metadata": {},
   "source": [
    "Order of running files:\n",
    "1. AML Loading Data.ipynb\n",
    "2. AML Pre-processing Data.ipynb\n",
    "3. AML Convert.ipynb\n",
    "4. AML Feature Selection.ipynb"
   ]
  },
  {
   "cell_type": "raw",
   "metadata": {},
   "source": [
    "Project Steps:\n",
    "    Preprocessing:\n",
    "        1. Gene Expression Data Cleaning\n",
    "        2. Clinical Classification Target Extraction\n",
    "        3. Data Harmonization and Normalization\n",
    "        4. Patient Selection\n",
    "        \n",
    "        - Gene Extraction (AML Convert)\n",
    "    \n",
    "    Classification:\n",
    "        5. Feature Selection vs. Dimensionality Reduction\n",
    "        6. Data Visualization (PCA, t-SNE, other)\n",
    "        (7. SMOTE)\n",
    "        8. Classification with SVM, Random Forest, Gradient Boosting, Logistic Regression, KNN, Voting\n",
    "        9. Validation and Evaluation\n",
    "        \n",
    "Note: 0 - Censored, 1 - Relapse"
   ]
  },
  {
   "cell_type": "markdown",
   "metadata": {
    "toc": true
   },
   "source": [
    "<h1>Table of Contents<span class=\"tocSkip\"></span></h1>\n",
    "<div class=\"toc\"><ul class=\"toc-item\"><li><span><a href=\"#Feature-Selection-Pt.1-Find-best-subset-of-features\" data-toc-modified-id=\"Feature-Selection-Pt.1-Find-best-subset-of-features-1\"><span class=\"toc-item-num\">1&nbsp;&nbsp;</span>Feature Selection Pt.1 Find best subset of features</a></span><ul class=\"toc-item\"><li><span><a href=\"#Sort-Genes/Columns-by-ANOVA-score-with-KBest\" data-toc-modified-id=\"Sort-Genes/Columns-by-ANOVA-score-with-KBest-1.1\"><span class=\"toc-item-num\">1.1&nbsp;&nbsp;</span>Sort Genes/Columns by ANOVA score with KBest</a></span></li><li><span><a href=\"#Run-an-SVM-on-multiple-gene/column-subsets-to-find-best-one\" data-toc-modified-id=\"Run-an-SVM-on-multiple-gene/column-subsets-to-find-best-one-1.2\"><span class=\"toc-item-num\">1.2&nbsp;&nbsp;</span>Run an SVM on multiple gene/column subsets to find best one</a></span></li></ul></li><li><span><a href=\"#Misc-Plots-(work-on-3d-visualization)\" data-toc-modified-id=\"Misc-Plots-(work-on-3d-visualization)-2\"><span class=\"toc-item-num\">2&nbsp;&nbsp;</span>Misc Plots (work on 3d visualization)</a></span></li><li><span><a href=\"#Classification-(work-in-progress)\" data-toc-modified-id=\"Classification-(work-in-progress)-3\"><span class=\"toc-item-num\">3&nbsp;&nbsp;</span>Classification (work in progress)</a></span></li></ul></div>"
   ]
  },
  {
   "cell_type": "code",
   "execution_count": 1,
   "metadata": {
    "code_folding": [
     0
    ]
   },
   "outputs": [
    {
     "name": "stdout",
     "output_type": "stream",
     "text": [
      "Python version: 3.6.6 |Anaconda custom (64-bit)| (default, Jun 28 2018, 11:07:29) \n",
      "[GCC 4.2.1 Compatible Clang 4.0.1 (tags/RELEASE_401/final)]\n",
      "OS version: posix.uname_result(sysname='Darwin', nodename='Bings-MacBook-Pro.local', release='17.4.0', version='Darwin Kernel Version 17.4.0: Sun Dec 17 09:19:54 PST 2017; root:xnu-4570.41.2~1/RELEASE_X86_64', machine='x86_64')\n",
      "pandas version: 0.23.1\n",
      "matplotlib version: 2.2.2\n",
      "NumPy version: 1.14.5\n",
      "SciPy version: 1.1.0\n",
      "scikit-learn version: 0.19.1\n",
      "-------------------------\n"
     ]
    }
   ],
   "source": [
    "# Packages\n",
    "\n",
    "import sys\n",
    "print(\"Python version: {}\". format(sys.version))\n",
    "\n",
    "import os\n",
    "print(\"OS version: {}\". format(os.uname()))\n",
    "\n",
    "import pandas as pd\n",
    "print(\"pandas version: {}\". format(pd.__version__))\n",
    "\n",
    "import matplotlib\n",
    "print(\"matplotlib version: {}\". format(matplotlib.__version__))\n",
    "import matplotlib.pyplot as plt\n",
    "\n",
    "import numpy as np\n",
    "print(\"NumPy version: {}\". format(np.__version__))\n",
    "\n",
    "import scipy as sp \n",
    "print(\"SciPy version: {}\". format(sp.__version__)) \n",
    "\n",
    "import sklearn \n",
    "print(\"scikit-learn version: {}\". format(sklearn.__version__))\n",
    "\n",
    "#misc\n",
    "import random\n",
    "import time\n",
    "\n",
    "print('-'*25)"
   ]
  },
  {
   "cell_type": "code",
   "execution_count": 2,
   "metadata": {},
   "outputs": [],
   "source": [
    "PATH = \"AML-DATA/\"\n",
    "\n",
    "X = pd.read_csv(PATH + \"X_mod.csv\", index_col = 0)\n",
    "\n",
    "y = pd.read_pickle(PATH + \"PROCESSED-TARGET-AML-Y.pkl\")\n"
   ]
  },
  {
   "cell_type": "code",
   "execution_count": 3,
   "metadata": {
    "scrolled": true
   },
   "outputs": [
    {
     "data": {
      "text/html": [
       "<div>\n",
       "<style scoped>\n",
       "    .dataframe tbody tr th:only-of-type {\n",
       "        vertical-align: middle;\n",
       "    }\n",
       "\n",
       "    .dataframe tbody tr th {\n",
       "        vertical-align: top;\n",
       "    }\n",
       "\n",
       "    .dataframe thead th {\n",
       "        text-align: right;\n",
       "    }\n",
       "</style>\n",
       "<table border=\"1\" class=\"dataframe\">\n",
       "  <thead>\n",
       "    <tr style=\"text-align: right;\">\n",
       "      <th></th>\n",
       "      <th>OR4G2P</th>\n",
       "      <th>OR4F4</th>\n",
       "      <th>OR4F29 /// OR4F16 /// OR4F3</th>\n",
       "      <th>LOC100287934</th>\n",
       "      <th>FAM87B</th>\n",
       "      <th>LINC01128</th>\n",
       "      <th>SAMD11</th>\n",
       "      <th>KLHL17</th>\n",
       "      <th>PLEKHN1</th>\n",
       "      <th>ISG15</th>\n",
       "      <th>...</th>\n",
       "      <th>TTTY5</th>\n",
       "      <th>GUSBP1 /// SMA4 /// SMA5 /// GUSBP3 /// LOC105369186 /// LOC102724292 /// LOC101928993 /// LOC100653061 /// LOC102725009</th>\n",
       "      <th>GUSBP1 /// SMA4 /// SMA5 /// LOC105369186 /// LOC102724292 /// LOC101928993 /// LOC100653061</th>\n",
       "      <th>OR10C1</th>\n",
       "      <th>HLA-F /// HLA-G /// HLA-H</th>\n",
       "      <th>C6orf48</th>\n",
       "      <th>OR5V1</th>\n",
       "      <th>OR11A1</th>\n",
       "      <th>ZNRD1-AS1</th>\n",
       "      <th>GPSM3</th>\n",
       "    </tr>\n",
       "  </thead>\n",
       "  <tbody>\n",
       "    <tr>\n",
       "      <th>TARGET-20-PABHET</th>\n",
       "      <td>-0.578220</td>\n",
       "      <td>-0.496468</td>\n",
       "      <td>-0.417386</td>\n",
       "      <td>0.655024</td>\n",
       "      <td>-0.798051</td>\n",
       "      <td>0.422296</td>\n",
       "      <td>0.360586</td>\n",
       "      <td>-0.485991</td>\n",
       "      <td>0.014931</td>\n",
       "      <td>0.762052</td>\n",
       "      <td>...</td>\n",
       "      <td>0.280646</td>\n",
       "      <td>0.675379</td>\n",
       "      <td>0.735445</td>\n",
       "      <td>0.539480</td>\n",
       "      <td>-0.252887</td>\n",
       "      <td>1.784525</td>\n",
       "      <td>-1.125916</td>\n",
       "      <td>-0.755813</td>\n",
       "      <td>0.124045</td>\n",
       "      <td>-1.219955</td>\n",
       "    </tr>\n",
       "    <tr>\n",
       "      <th>TARGET-20-PABHKY</th>\n",
       "      <td>-0.655221</td>\n",
       "      <td>-0.310280</td>\n",
       "      <td>-0.180097</td>\n",
       "      <td>0.521612</td>\n",
       "      <td>0.207194</td>\n",
       "      <td>0.438621</td>\n",
       "      <td>0.291989</td>\n",
       "      <td>0.187360</td>\n",
       "      <td>1.252351</td>\n",
       "      <td>2.221038</td>\n",
       "      <td>...</td>\n",
       "      <td>1.331470</td>\n",
       "      <td>0.847426</td>\n",
       "      <td>0.863211</td>\n",
       "      <td>1.833610</td>\n",
       "      <td>1.498381</td>\n",
       "      <td>0.676731</td>\n",
       "      <td>-1.213044</td>\n",
       "      <td>-0.197946</td>\n",
       "      <td>-0.236335</td>\n",
       "      <td>-0.037084</td>\n",
       "    </tr>\n",
       "    <tr>\n",
       "      <th>TARGET-20-PACDZR</th>\n",
       "      <td>-0.815846</td>\n",
       "      <td>-0.442479</td>\n",
       "      <td>-0.226525</td>\n",
       "      <td>1.660114</td>\n",
       "      <td>0.171987</td>\n",
       "      <td>-0.209545</td>\n",
       "      <td>-0.771887</td>\n",
       "      <td>0.366325</td>\n",
       "      <td>-0.004730</td>\n",
       "      <td>0.177329</td>\n",
       "      <td>...</td>\n",
       "      <td>2.005038</td>\n",
       "      <td>1.455398</td>\n",
       "      <td>1.332086</td>\n",
       "      <td>0.701104</td>\n",
       "      <td>0.694717</td>\n",
       "      <td>1.475351</td>\n",
       "      <td>-0.825630</td>\n",
       "      <td>-1.252602</td>\n",
       "      <td>-0.234714</td>\n",
       "      <td>-0.452149</td>\n",
       "    </tr>\n",
       "    <tr>\n",
       "      <th>TARGET-20-PADDXZ</th>\n",
       "      <td>-0.560854</td>\n",
       "      <td>-0.279067</td>\n",
       "      <td>-0.023409</td>\n",
       "      <td>0.353869</td>\n",
       "      <td>0.861383</td>\n",
       "      <td>1.328603</td>\n",
       "      <td>0.714987</td>\n",
       "      <td>1.280528</td>\n",
       "      <td>0.398754</td>\n",
       "      <td>0.700890</td>\n",
       "      <td>...</td>\n",
       "      <td>1.961599</td>\n",
       "      <td>-0.523511</td>\n",
       "      <td>-0.172852</td>\n",
       "      <td>1.335789</td>\n",
       "      <td>1.598477</td>\n",
       "      <td>1.754672</td>\n",
       "      <td>-0.638689</td>\n",
       "      <td>0.247643</td>\n",
       "      <td>-0.855112</td>\n",
       "      <td>0.285873</td>\n",
       "    </tr>\n",
       "    <tr>\n",
       "      <th>TARGET-20-PADZKD</th>\n",
       "      <td>1.173657</td>\n",
       "      <td>-0.013564</td>\n",
       "      <td>0.975696</td>\n",
       "      <td>-0.062624</td>\n",
       "      <td>-1.033628</td>\n",
       "      <td>-1.434103</td>\n",
       "      <td>1.508402</td>\n",
       "      <td>0.869525</td>\n",
       "      <td>2.062670</td>\n",
       "      <td>0.395210</td>\n",
       "      <td>...</td>\n",
       "      <td>1.828480</td>\n",
       "      <td>-0.893355</td>\n",
       "      <td>-0.887509</td>\n",
       "      <td>0.593984</td>\n",
       "      <td>-0.025396</td>\n",
       "      <td>0.287487</td>\n",
       "      <td>0.202399</td>\n",
       "      <td>1.678195</td>\n",
       "      <td>-0.366990</td>\n",
       "      <td>0.160636</td>\n",
       "    </tr>\n",
       "  </tbody>\n",
       "</table>\n",
       "<p>5 rows × 20942 columns</p>\n",
       "</div>"
      ],
      "text/plain": [
       "                    OR4G2P     OR4F4  OR4F29 /// OR4F16 /// OR4F3  \\\n",
       "TARGET-20-PABHET -0.578220 -0.496468                    -0.417386   \n",
       "TARGET-20-PABHKY -0.655221 -0.310280                    -0.180097   \n",
       "TARGET-20-PACDZR -0.815846 -0.442479                    -0.226525   \n",
       "TARGET-20-PADDXZ -0.560854 -0.279067                    -0.023409   \n",
       "TARGET-20-PADZKD  1.173657 -0.013564                     0.975696   \n",
       "\n",
       "                  LOC100287934    FAM87B  LINC01128    SAMD11    KLHL17  \\\n",
       "TARGET-20-PABHET      0.655024 -0.798051   0.422296  0.360586 -0.485991   \n",
       "TARGET-20-PABHKY      0.521612  0.207194   0.438621  0.291989  0.187360   \n",
       "TARGET-20-PACDZR      1.660114  0.171987  -0.209545 -0.771887  0.366325   \n",
       "TARGET-20-PADDXZ      0.353869  0.861383   1.328603  0.714987  1.280528   \n",
       "TARGET-20-PADZKD     -0.062624 -1.033628  -1.434103  1.508402  0.869525   \n",
       "\n",
       "                   PLEKHN1     ISG15    ...        TTTY5  \\\n",
       "TARGET-20-PABHET  0.014931  0.762052    ...     0.280646   \n",
       "TARGET-20-PABHKY  1.252351  2.221038    ...     1.331470   \n",
       "TARGET-20-PACDZR -0.004730  0.177329    ...     2.005038   \n",
       "TARGET-20-PADDXZ  0.398754  0.700890    ...     1.961599   \n",
       "TARGET-20-PADZKD  2.062670  0.395210    ...     1.828480   \n",
       "\n",
       "                  GUSBP1 /// SMA4 /// SMA5 /// GUSBP3 /// LOC105369186 /// LOC102724292 /// LOC101928993 /// LOC100653061 /// LOC102725009  \\\n",
       "TARGET-20-PABHET                                           0.675379                                                                          \n",
       "TARGET-20-PABHKY                                           0.847426                                                                          \n",
       "TARGET-20-PACDZR                                           1.455398                                                                          \n",
       "TARGET-20-PADDXZ                                          -0.523511                                                                          \n",
       "TARGET-20-PADZKD                                          -0.893355                                                                          \n",
       "\n",
       "                  GUSBP1 /// SMA4 /// SMA5 /// LOC105369186 /// LOC102724292 /// LOC101928993 /// LOC100653061  \\\n",
       "TARGET-20-PABHET                                           0.735445                                              \n",
       "TARGET-20-PABHKY                                           0.863211                                              \n",
       "TARGET-20-PACDZR                                           1.332086                                              \n",
       "TARGET-20-PADDXZ                                          -0.172852                                              \n",
       "TARGET-20-PADZKD                                          -0.887509                                              \n",
       "\n",
       "                    OR10C1  HLA-F /// HLA-G /// HLA-H   C6orf48     OR5V1  \\\n",
       "TARGET-20-PABHET  0.539480                  -0.252887  1.784525 -1.125916   \n",
       "TARGET-20-PABHKY  1.833610                   1.498381  0.676731 -1.213044   \n",
       "TARGET-20-PACDZR  0.701104                   0.694717  1.475351 -0.825630   \n",
       "TARGET-20-PADDXZ  1.335789                   1.598477  1.754672 -0.638689   \n",
       "TARGET-20-PADZKD  0.593984                  -0.025396  0.287487  0.202399   \n",
       "\n",
       "                    OR11A1  ZNRD1-AS1     GPSM3  \n",
       "TARGET-20-PABHET -0.755813   0.124045 -1.219955  \n",
       "TARGET-20-PABHKY -0.197946  -0.236335 -0.037084  \n",
       "TARGET-20-PACDZR -1.252602  -0.234714 -0.452149  \n",
       "TARGET-20-PADDXZ  0.247643  -0.855112  0.285873  \n",
       "TARGET-20-PADZKD  1.678195  -0.366990  0.160636  \n",
       "\n",
       "[5 rows x 20942 columns]"
      ]
     },
     "execution_count": 3,
     "metadata": {},
     "output_type": "execute_result"
    }
   ],
   "source": [
    "X.head()"
   ]
  },
  {
   "cell_type": "code",
   "execution_count": 4,
   "metadata": {},
   "outputs": [
    {
     "data": {
      "text/plain": [
       "0.0    68\n",
       "1.0    42\n",
       "Name: First Event, dtype: int64"
      ]
     },
     "execution_count": 4,
     "metadata": {},
     "output_type": "execute_result"
    }
   ],
   "source": [
    "y.value_counts()"
   ]
  },
  {
   "cell_type": "markdown",
   "metadata": {},
   "source": [
    "## Feature Selection Pt.1 Find best subset of features"
   ]
  },
  {
   "cell_type": "markdown",
   "metadata": {},
   "source": [
    "### Sort Genes/Columns by ANOVA score with KBest \n",
    "Highest Score = Column 0, Lowest Score = Column ~20000"
   ]
  },
  {
   "cell_type": "code",
   "execution_count": 5,
   "metadata": {},
   "outputs": [
    {
     "data": {
      "text/plain": [
       "SelectKBest(k=10, score_func=<function f_classif at 0xa194a1268>)"
      ]
     },
     "execution_count": 5,
     "metadata": {},
     "output_type": "execute_result"
    }
   ],
   "source": [
    "from sklearn.feature_selection import SelectKBest\n",
    "\n",
    "kbest = SelectKBest()\n",
    "kbest.fit(X, y)"
   ]
  },
  {
   "cell_type": "code",
   "execution_count": 6,
   "metadata": {},
   "outputs": [],
   "source": [
    "X = X.T\n",
    "X[\"gene_score\"] = pd.Series(kbest.scores_, index = X.index).astype(\"float64\")\n"
   ]
  },
  {
   "cell_type": "code",
   "execution_count": 7,
   "metadata": {},
   "outputs": [],
   "source": [
    "X.sort_values(by = \"gene_score\", axis = 0, inplace=True, ascending = False)\n",
    "X=X.T\n",
    "X.drop(\"gene_score\", inplace = True, axis = 0)"
   ]
  },
  {
   "cell_type": "code",
   "execution_count": 8,
   "metadata": {},
   "outputs": [
    {
     "data": {
      "image/png": "[encoded data removed]",
      "text/plain": [
       "<Figure size 432x288 with 1 Axes>"
      ]
     },
     "metadata": {},
     "output_type": "display_data"
    }
   ],
   "source": [
    "plt.hist(kbest.scores_, bins = 100);\n",
    "plt.show()"
   ]
  },
  {
   "cell_type": "code",
   "execution_count": 9,
   "metadata": {},
   "outputs": [
    {
     "data": {
      "text/plain": [
       "20942"
      ]
     },
     "execution_count": 9,
     "metadata": {},
     "output_type": "execute_result"
    }
   ],
   "source": [
    "len(X.columns)"
   ]
  },
  {
   "cell_type": "markdown",
   "metadata": {},
   "source": [
    "### Run an SVM on multiple gene/column subsets to find best one"
   ]
  },
  {
   "cell_type": "code",
   "execution_count": 10,
   "metadata": {},
   "outputs": [],
   "source": [
    "subsets = [5, 10, 15, 20, 30, 50, 75, 100, 130, 170, \n",
    "           200, 240, 280, 320, 370, 440, 580, 700, \n",
    "           850, 1000, 1200, 1350, 1500, 1800]"
   ]
  },
  {
   "cell_type": "code",
   "execution_count": 11,
   "metadata": {},
   "outputs": [],
   "source": [
    "from sklearn.svm import SVC\n",
    "from sklearn.model_selection import RepeatedStratifiedKFold\n",
    "from sklearn.metrics import roc_auc_score\n",
    "from tqdm import tqdm_notebook\n",
    "\n",
    "\n",
    "subsetTester = SVC()\n",
    "k_fold  = RepeatedStratifiedKFold(10, n_repeats = 3, random_state = 100)\n",
    "accs = [[] * 24 for x in range(24)]\n",
    "\n",
    "aucs = [[] * 24 for x in range(24)]\n"
   ]
  },
  {
   "cell_type": "code",
   "execution_count": 12,
   "metadata": {},
   "outputs": [
    {
     "data": {
      "application/vnd.jupyter.widget-view+json": {
       "model_id": "5e3b37aeadb54d27b74e49f494d8627e",
       "version_major": 2,
       "version_minor": 0
      },
      "text/plain": [
       "HBox(children=(IntProgress(value=0, max=24), HTML(value='')))"
      ]
     },
     "metadata": {},
     "output_type": "display_data"
    },
    {
     "name": "stdout",
     "output_type": "stream",
     "text": [
      "\n"
     ]
    }
   ],
   "source": [
    "# Outer for loop tests each subset boundary, inner for loop perfers repeated stratified kfold validation\n",
    "\n",
    "for i in tqdm_notebook(range(len(subsets))):\n",
    "    \n",
    "    subX = X.iloc[:, :subsets[i]]\n",
    "    \n",
    "    k = 1\n",
    "    for k, (train, test) in enumerate(k_fold.split(subX, y)):\n",
    "\n",
    "        subsetTester.fit(subX.iloc[train], y.iloc[train])\n",
    "        accuracy = subsetTester.score(subX.iloc[test], y.iloc[test])\n",
    "        accs[i].append(accuracy)\n",
    "\n",
    "        y_pred = subsetTester.predict(subX.iloc[test])\n",
    "        roc_auc = roc_auc_score(y.iloc[test], y_pred)\n",
    "        aucs[i].append(roc_auc)\n",
    "\n",
    "        k+=1"
   ]
  },
  {
   "cell_type": "code",
   "execution_count": 13,
   "metadata": {},
   "outputs": [],
   "source": [
    "from statistics import mean\n",
    "\n",
    "for i in range(24):\n",
    "    accs[i] = mean(accs[i]) \n",
    "    aucs[i] = mean(aucs[i])"
   ]
  },
  {
   "cell_type": "code",
   "execution_count": 14,
   "metadata": {},
   "outputs": [
    {
     "data": {
      "image/png": "[encoded data removed]",
      "text/plain": [
       "<Figure size 432x288 with 1 Axes>"
      ]
     },
     "metadata": {},
     "output_type": "display_data"
    }
   ],
   "source": [
    "# Plot lines - plt.plot(X, Y, label=xxx)\n",
    "accline, = plt.plot(subsets, accs, \"o--\", label = \"Accuracy\")\n",
    "aucline, = plt.plot(subsets, aucs, \"o--\", label = \"AUC\")\n",
    "\n",
    "# Legend\n",
    "plt.legend(handles=[accline, aucline])\n",
    "\n",
    "# Label stuff\n",
    "plt.title(\"SVM Accuracy and AUC over Subsets of KBest Selected Genes\", fontsize = 15)\n",
    "plt.xlabel(\"Number of Top Genes used\", fontsize = 14)\n",
    "plt.ylabel(\"Measured Accuracy/AUC\", fontsize = 14)\n",
    "\n",
    "\n",
    "\n",
    "plt.show()"
   ]
  },
  {
   "cell_type": "markdown",
   "metadata": {
    "heading_collapsed": true
   },
   "source": [
    "## Misc Plots (work on 3d visualization)"
   ]
  },
  {
   "cell_type": "code",
   "execution_count": null,
   "metadata": {
    "hidden": true
   },
   "outputs": [],
   "source": [
    "from sklearn.decomposition import PCA\n",
    "pca = PCA(n_components = 3)\n",
    "pca = pca.fit(X)\n",
    "X_pca = pca.transform(X.copy())\n",
    "\n",
    "from sklearn.manifold import TSNE\n",
    "tsne = TSNE(n_components = 3)\n",
    "X_tsne = tsne.fit_transform(X.copy())\n"
   ]
  },
  {
   "cell_type": "code",
   "execution_count": null,
   "metadata": {
    "hidden": true
   },
   "outputs": [],
   "source": [
    "target_names = [\"Censored\", \"Relapse\"]\n",
    "colors = ['navy', 'turquoise', 'darkorange']\n",
    "\n",
    "plt.figure()\n",
    "\n",
    "lw = 2\n",
    "\n",
    "for color, i, target_name in zip(colors, [0, 1, 2], target_names):\n",
    "    plt.scatter(X_pca[y == i, 0], X_pca[y == i, 1], color=color, alpha=.8, lw=lw,\n",
    "                label=target_name)\n",
    "plt.legend(loc='best', shadow=False, scatterpoints=1)\n",
    "plt.title('PCA of Low-risk AML Gene Expression')\n",
    "\n",
    "plt.show()"
   ]
  },
  {
   "cell_type": "code",
   "execution_count": null,
   "metadata": {
    "hidden": true
   },
   "outputs": [],
   "source": [
    "print('explained variance ratio (first two components): %s'\n",
    "      % str(pca.explained_variance_ratio_))"
   ]
  },
  {
   "cell_type": "code",
   "execution_count": null,
   "metadata": {
    "hidden": true
   },
   "outputs": [],
   "source": [
    "plt.figure()\n",
    "\n",
    "lw = 2\n",
    "\n",
    "for color, i, target_name in zip(colors, [0, 1, 2], target_names):\n",
    "    plt.scatter(X_tsne[y == i, 0], X_tsne[y == i, 1], color=color, alpha=.8, lw=lw,\n",
    "                label=target_name)\n",
    "plt.legend(loc='best', shadow=False, scatterpoints=1)\n",
    "plt.title('T-SNE of Low-risk AML Gene Expression')\n",
    "\n",
    "plt.show()"
   ]
  },
  {
   "cell_type": "markdown",
   "metadata": {
    "heading_collapsed": true
   },
   "source": [
    "## Classification (work in progress)"
   ]
  },
  {
   "cell_type": "code",
   "execution_count": null,
   "metadata": {
    "hidden": true
   },
   "outputs": [],
   "source": [
    "\n",
    "k = 1\n",
    "for k, (train, test) in tqdm(enumerate(k_fold.split(X, y))):\n",
    "    \n",
    "    #isomap = Isomap(n_components = 10)\n",
    "    #isomap.fit(X.iloc[train])\n",
    "    #X_train_isomap = isomap.transform(X.iloc[train].copy())\n",
    "    #X_test_isomap = isomap.transform(X.iloc[test].copy())\n",
    "    kbest.fit(X.iloc[train], y.iloc[train])\n",
    "    X_train = kbest.transform(X.iloc[train].copy())\n",
    "    X_test = kbest.transform(X.iloc[test].copy())\n",
    "    \n",
    "    svm.fit(X_train, y.iloc[train])\n",
    "    accuracy = svm.score(X_test, y.iloc[test])\n",
    "    accs.append(accuracy)\n",
    "    \n",
    "    y_pred = svm.predict(X_test)\n",
    "    roc_auc = roc_auc_score(y.iloc[test], y_pred)\n",
    "    aucs.append(roc_auc)\n",
    "    \n",
    "    \n",
    "    \n",
    "    k+=1\n"
   ]
  },
  {
   "cell_type": "code",
   "execution_count": null,
   "metadata": {
    "hidden": true
   },
   "outputs": [],
   "source": [
    "from sklearn.svm import SVC\n",
    "from sklearn.model_selection import RepeatedStratifiedKFold\n",
    "from tqdm import tqdm\n",
    "from sklearn.manifold import Isomap \n",
    "from sklearn.metrics import roc_auc_score\n",
    "\n",
    "\n",
    "k_fold  = RepeatedStratifiedKFold(10, n_repeats = 3, random_state = 100)\n",
    "accs = []\n",
    "aucs = []\n",
    "svm = SVC(kernel = \"linear\", C=0.01)\n",
    "kbest = SelectKBest(k=30)\n",
    "\n",
    "\n",
    "k = 1\n",
    "for k, (train, test) in tqdm(enumerate(k_fold.split(X, y))):\n",
    "    \n",
    "    #isomap = Isomap(n_components = 10)\n",
    "    #isomap.fit(X.iloc[train])\n",
    "    #X_train_isomap = isomap.transform(X.iloc[train].copy())\n",
    "    #X_test_isomap = isomap.transform(X.iloc[test].copy())\n",
    "    kbest.fit(X.iloc[train], y.iloc[train])\n",
    "    X_train = kbest.transform(X.iloc[train].copy())\n",
    "    X_test = kbest.transform(X.iloc[test].copy())\n",
    "    \n",
    "    svm.fit(X_train, y.iloc[train])\n",
    "    accuracy = svm.score(X_test, y.iloc[test])\n",
    "    accs.append(accuracy)\n",
    "    \n",
    "    y_pred = svm.predict(X_test)\n",
    "    roc_auc = roc_auc_score(y.iloc[test], y_pred)\n",
    "    aucs.append(roc_auc)\n",
    "    \n",
    "    \n",
    "    \n",
    "    k+=1\n"
   ]
  },
  {
   "cell_type": "code",
   "execution_count": null,
   "metadata": {
    "hidden": true
   },
   "outputs": [],
   "source": [
    "from statistics import mean\n",
    "\n",
    "print(mean(accs), mean(aucs))"
   ]
  }
 ],
 "metadata": {
  "kernelspec": {
   "display_name": "Python 3",
   "language": "python",
   "name": "python3"
  },
  "language_info": {
   "codemirror_mode": {
    "name": "ipython",
    "version": 3
   },
   "file_extension": ".py",
   "mimetype": "text/x-python",
   "name": "python",
   "nbconvert_exporter": "python",
   "pygments_lexer": "ipython3",
   "version": "3.6.6"
  },
  "toc": {
   "nav_menu": {},
   "number_sections": true,
   "sideBar": true,
   "skip_h1_title": true,
   "title_cell": "Table of Contents",
   "title_sidebar": "Contents",
   "toc_cell": true,
   "toc_position": {},
   "toc_section_display": true,
   "toc_window_display": false
  }
 },
 "nbformat": 4,
 "nbformat_minor": 2
}
