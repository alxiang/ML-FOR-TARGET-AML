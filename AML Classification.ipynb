{
 "cells": [
  {
   "cell_type": "raw",
   "metadata": {},
   "source": [
    "Order of running files:\n",
    "1. AML Loading Data.ipynb\n",
    "2. AML Pre-processing Data.ipynb\n",
    "3. AML Convert.ipynb\n",
    "4. AML Feature Selection.ipynb\n",
    "5. AML Classification.ipynb"
   ]
  },
  {
   "cell_type": "raw",
   "metadata": {},
   "source": [
    "Project Steps:\n",
    "    Preprocessing:\n",
    "        1. Gene Expression Data Cleaning\n",
    "        2. Clinical Classification Target Extraction\n",
    "        3. Data Harmonization and Normalization\n",
    "        4. Patient Selection\n",
    "        \n",
    "        - Gene Extraction (AML Convert)\n",
    "    \n",
    "    Classification:\n",
    "        5. Feature Selection vs. Dimensionality Reduction\n",
    "        6. Data Visualization (PCA, t-SNE, other)\n",
    "        (7. SMOTE)\n",
    "-->     8. Classification with SVM, Random Forest, Gradient Boosting, Logistic Regression, KNN, Voting\n",
    "-->     9. Validation and Evaluation\n",
    "        \n",
    "Note: 0 - Censored, 1 - Relapse"
   ]
  },
  {
   "cell_type": "markdown",
   "metadata": {
    "toc": true
   },
   "source": [
    "<h1>Table of Contents<span class=\"tocSkip\"></span></h1>\n",
    "<div class=\"toc\"><ul class=\"toc-item\"><li><span><a href=\"#Test-1---Running-Various-Untuned-Classifiers-and-picking-some-for-extensive-testing\" data-toc-modified-id=\"Test-1---Running-Various-Untuned-Classifiers-and-picking-some-for-extensive-testing-1\"><span class=\"toc-item-num\">1&nbsp;&nbsp;</span>Test 1 - Running Various Untuned Classifiers and picking some for extensive testing</a></span></li><li><span><a href=\"#Test-2---Hyperparameter-tuning-for-Random-Forest\" data-toc-modified-id=\"Test-2---Hyperparameter-tuning-for-Random-Forest-2\"><span class=\"toc-item-num\">2&nbsp;&nbsp;</span>Test 2 - Hyperparameter tuning for Random Forest</a></span><ul class=\"toc-item\"><li><span><a href=\"#Experimenting-with-Decision-Tree-for-Biological-Interpretability\" data-toc-modified-id=\"Experimenting-with-Decision-Tree-for-Biological-Interpretability-2.1\"><span class=\"toc-item-num\">2.1&nbsp;&nbsp;</span>Experimenting with Decision Tree for Biological Interpretability</a></span></li><li><span><a href=\"#Tuning-Random-Forest\" data-toc-modified-id=\"Tuning-Random-Forest-2.2\"><span class=\"toc-item-num\">2.2&nbsp;&nbsp;</span>Tuning Random Forest</a></span></li></ul></li><li><span><a href=\"#Tuning-SVMs-and-LR-with-X_signature\" data-toc-modified-id=\"Tuning-SVMs-and-LR-with-X_signature-3\"><span class=\"toc-item-num\">3&nbsp;&nbsp;</span>Tuning SVMs and LR with X_signature</a></span></li><li><span><a href=\"#Final-Test-with-multivariate-feature-selection\" data-toc-modified-id=\"Final-Test-with-multivariate-feature-selection-4\"><span class=\"toc-item-num\">4&nbsp;&nbsp;</span>Final Test with multivariate feature selection</a></span></li></ul></div>"
   ]
  },
  {
   "cell_type": "code",
   "execution_count": 1,
   "metadata": {
    "code_folding": [
     0
    ]
   },
   "outputs": [
    {
     "name": "stdout",
     "output_type": "stream",
     "text": [
      "Python version: 3.6.6 |Anaconda custom (64-bit)| (default, Jun 28 2018, 11:07:29) \n",
      "[GCC 4.2.1 Compatible Clang 4.0.1 (tags/RELEASE_401/final)]\n",
      "OS version: posix.uname_result(sysname='Darwin', nodename='Bings-MacBook-Pro.local', release='17.4.0', version='Darwin Kernel Version 17.4.0: Sun Dec 17 09:19:54 PST 2017; root:xnu-4570.41.2~1/RELEASE_X86_64', machine='x86_64')\n",
      "pandas version: 0.23.1\n",
      "matplotlib version: 2.2.2\n",
      "NumPy version: 1.14.5\n",
      "SciPy version: 1.1.0\n",
      "scikit-learn version: 0.19.1\n",
      "-------------------------\n"
     ]
    }
   ],
   "source": [
    "# Packages\n",
    "\n",
    "import sys\n",
    "print(\"Python version: {}\". format(sys.version))\n",
    "\n",
    "import os\n",
    "print(\"OS version: {}\". format(os.uname()))\n",
    "\n",
    "import pandas as pd\n",
    "print(\"pandas version: {}\". format(pd.__version__))\n",
    "\n",
    "import matplotlib\n",
    "print(\"matplotlib version: {}\". format(matplotlib.__version__))\n",
    "import matplotlib.pyplot as plt\n",
    "\n",
    "import numpy as np\n",
    "print(\"NumPy version: {}\". format(np.__version__))\n",
    "\n",
    "import scipy as sp \n",
    "print(\"SciPy version: {}\". format(sp.__version__)) \n",
    "\n",
    "import sklearn \n",
    "print(\"scikit-learn version: {}\". format(sklearn.__version__))\n",
    "\n",
    "#misc\n",
    "import random\n",
    "import time\n",
    "\n",
    "print('-'*25)"
   ]
  },
  {
   "cell_type": "code",
   "execution_count": 2,
   "metadata": {},
   "outputs": [],
   "source": [
    "PATH = \"AML-DATA/\"\n",
    "\n",
    "# 250 top scoring genes\n",
    "X_250 = pd.read_csv(PATH + \"X_subset_250.csv\", index_col = 0)\n",
    "\n",
    "# 24 gene-signature derived from bigX\n",
    "X_signature = pd.read_csv(PATH + \"X_signature_24.csv\", index_col = 0)\n",
    "\n",
    "# Right now pkl version of file doesn't have DataFrame/Series type problem (as opposed to csv version)\n",
    "y = pd.read_pickle(PATH + \"PROCESSED-TARGET-AML-Y.pkl\")"
   ]
  },
  {
   "cell_type": "markdown",
   "metadata": {},
   "source": [
    "## Test 1 - Running Various Untuned Classifiers and picking some for extensive testing\n",
    "\n",
    "Not testing Random Forest, Voting, and Gradient Boosting here, but they will be used in final testing (computational reasons)\n",
    "\n",
    "\n",
    "RESULTS:\n",
    "\n",
    "* All SVM variations and Logistic Regression are promising with more tuning\n",
    "\n",
    "* L2-SVM in particular achieves above .98 score in all 3 metrics, better than previous studies\n",
    "\n",
    "* Additionally - replacing X_signature with X_250 in the \"Actual Testing\" cell provides evidence that the L1-SVM feature selection was effective."
   ]
  },
  {
   "cell_type": "code",
   "execution_count": 3,
   "metadata": {},
   "outputs": [],
   "source": [
    "# Various Classifiers\n",
    "from sklearn.svm import SVC # RBF kernel SVM\n",
    "from sklearn.svm import LinearSVC # L1 and L2 reg. SVMs\n",
    "from sklearn.neighbors import KNeighborsClassifier # K-nearest neighbors (needs some extra tuning here for k)\n",
    "from sklearn.linear_model import LogisticRegression # L2 reg. Logistic Regression\n",
    "from sklearn.naive_bayes import GaussianNB # Naive Bayes\n",
    "from sklearn.ensemble import RandomForestClassifier\n",
    "\n",
    "# Model validation\n",
    "from sklearn.model_selection import RepeatedStratifiedKFold\n",
    "from sklearn.metrics import accuracy_score\n",
    "from sklearn.metrics import roc_auc_score\n",
    "from sklearn.metrics import f1_score\n",
    "\n",
    "from tqdm import tqdm_notebook"
   ]
  },
  {
   "cell_type": "code",
   "execution_count": 4,
   "metadata": {},
   "outputs": [],
   "source": [
    "# SET UP\n",
    "\n",
    "k_fold = RepeatedStratifiedKFold(10, n_repeats = 10, random_state = 100)\n",
    "\n",
    "# Keys = classifiers, stored-values = [accuracy, roc_aucs, f1]\n",
    "clfDict = {SVC(kernel = \"rbf\") : [[],[],[]],\n",
    "           \n",
    "           LinearSVC(penalty = \"l1\", dual = False) : [[],[],[]], LinearSVC(penalty = \"l2\") : [[],[],[]], \n",
    "           \n",
    "           KNeighborsClassifier(n_neighbors = 8, p = 3): [[],[],[]],\n",
    "           \n",
    "           LogisticRegression(C = 0.01) : [[],[],[]],\n",
    "           \n",
    "           GaussianNB() : [[],[],[]],\n",
    "           \n",
    "           RandomForestClassifier(max_depth = 3, max_features = 'sqrt', min_samples_leaf = 2,\n",
    "                                  min_samples_split = 2, n_estimators = 300) : [[],[],[]]\n",
    "          }"
   ]
  },
  {
   "cell_type": "code",
   "execution_count": 6,
   "metadata": {},
   "outputs": [
    {
     "data": {
      "application/vnd.jupyter.widget-view+json": {
       "model_id": "5047d97b996f494a91563d356ebbc22c",
       "version_major": 2,
       "version_minor": 0
      },
      "text/plain": [
       "HBox(children=(IntProgress(value=0, max=7), HTML(value='')))"
      ]
     },
     "metadata": {},
     "output_type": "display_data"
    }
   ],
   "source": [
    "# ACTUAL TESTING\n",
    "\n",
    "\n",
    "for clf in tqdm_notebook(clfDict.keys()):\n",
    "    \n",
    "    k = 1\n",
    "    for k, (train, test) in enumerate(k_fold.split(X_signature, y)):\n",
    "\n",
    "        clf.fit(X_signature.iloc[train], y.iloc[train])\n",
    "       \n",
    "    \n",
    "        y_pred = clf.predict(X_signature.iloc[test])\n",
    "        \n",
    "        accuracy = accuracy_score(y.iloc[test], y_pred)\n",
    "        roc_auc = roc_auc_score(y.iloc[test], y_pred)\n",
    "        f1 = f1_score(y.iloc[test], y_pred)\n",
    "        \n",
    "        clfDict[clf][0].append(accuracy)\n",
    "        clfDict[clf][1].append(roc_auc)\n",
    "        clfDict[clf][2].append(f1)\n",
    "\n",
    "        "
   ]
  },
  {
   "cell_type": "code",
   "execution_count": 7,
   "metadata": {},
   "outputs": [
    {
     "data": {
      "text/html": [
       "<div>\n",
       "<style scoped>\n",
       "    .dataframe tbody tr th:only-of-type {\n",
       "        vertical-align: middle;\n",
       "    }\n",
       "\n",
       "    .dataframe tbody tr th {\n",
       "        vertical-align: top;\n",
       "    }\n",
       "\n",
       "    .dataframe thead th {\n",
       "        text-align: right;\n",
       "    }\n",
       "</style>\n",
       "<table border=\"1\" class=\"dataframe\">\n",
       "  <thead>\n",
       "    <tr style=\"text-align: right;\">\n",
       "      <th></th>\n",
       "      <th>RBF-SVM</th>\n",
       "      <th>L1-SVM</th>\n",
       "      <th>L2-SVM</th>\n",
       "      <th>KNN</th>\n",
       "      <th>L1_LR</th>\n",
       "      <th>GNB</th>\n",
       "      <th>RF</th>\n",
       "    </tr>\n",
       "  </thead>\n",
       "  <tbody>\n",
       "    <tr>\n",
       "      <th>mean accuracy</th>\n",
       "      <td>0.831688</td>\n",
       "      <td>0.878268</td>\n",
       "      <td>0.875866</td>\n",
       "      <td>0.705952</td>\n",
       "      <td>0.799957</td>\n",
       "      <td>0.773896</td>\n",
       "      <td>0.721537</td>\n",
       "    </tr>\n",
       "    <tr>\n",
       "      <th>area under ROC curve</th>\n",
       "      <td>0.831636</td>\n",
       "      <td>0.878500</td>\n",
       "      <td>0.876091</td>\n",
       "      <td>0.709364</td>\n",
       "      <td>0.800682</td>\n",
       "      <td>0.774727</td>\n",
       "      <td>0.721238</td>\n",
       "    </tr>\n",
       "    <tr>\n",
       "      <th>f1 score</th>\n",
       "      <td>0.832304</td>\n",
       "      <td>0.878129</td>\n",
       "      <td>0.875177</td>\n",
       "      <td>0.659169</td>\n",
       "      <td>0.794695</td>\n",
       "      <td>0.766704</td>\n",
       "      <td>0.726990</td>\n",
       "    </tr>\n",
       "  </tbody>\n",
       "</table>\n",
       "</div>"
      ],
      "text/plain": [
       "                       RBF-SVM    L1-SVM    L2-SVM       KNN     L1_LR  \\\n",
       "mean accuracy         0.831688  0.878268  0.875866  0.705952  0.799957   \n",
       "area under ROC curve  0.831636  0.878500  0.876091  0.709364  0.800682   \n",
       "f1 score              0.832304  0.878129  0.875177  0.659169  0.794695   \n",
       "\n",
       "                           GNB        RF  \n",
       "mean accuracy         0.773896  0.721537  \n",
       "area under ROC curve  0.774727  0.721238  \n",
       "f1 score              0.766704  0.726990  "
      ]
     },
     "metadata": {},
     "output_type": "display_data"
    }
   ],
   "source": [
    "# VIEW RESULTS\n",
    "from statistics import mean\n",
    "\n",
    "results = pd.DataFrame.from_dict(clfDict)\n",
    "results.columns = [\"RBF-SVM\", \"L1-SVM\", \"L2-SVM\", \"KNN\", \"L1_LR\", \"GNB\", \"RF\"]\n",
    "results.index = [\"mean accuracy\", \"area under ROC curve\", \"f1 score\"]\n",
    "results = results.applymap(lambda x: mean(x))\n",
    "\n",
    "display(results)"
   ]
  },
  {
   "cell_type": "markdown",
   "metadata": {},
   "source": [
    "## Test 2 - Hyperparameter tuning for Random Forest\n",
    "\n",
    "Before integrating all the different classifiers in a single test, it's computationally beneficial to tune the random forest separately and use set hyperparameters, instead of needing to tune on-the-go. \n",
    "\n"
   ]
  },
  {
   "cell_type": "markdown",
   "metadata": {},
   "source": [
    "### Experimenting with Decision Tree for Biological Interpretability"
   ]
  },
  {
   "cell_type": "code",
   "execution_count": 8,
   "metadata": {},
   "outputs": [],
   "source": [
    "# SETUP\n",
    "from sklearn.tree import DecisionTreeClassifier\n",
    "\n",
    "from sklearn.model_selection import GridSearchCV\n",
    "\n",
    "# Hyperparameters\n",
    "max_features = ['sqrt'] # Max num of features considered every split\n",
    "max_depth = [2, 3, 4, 5] # Max num of levels in whole tree\n",
    "min_samples_split = [2, 5, 10] # Min num of samples required to split a node\n",
    "min_samples_leaf = [2, 5] # Min num of samples required at each node\n",
    "#bootstrap = [True, False] # Method of selecting samples for training each tree\n",
    "\n",
    "# GridSearch Grid\n",
    "grid = {'max_features': max_features,\n",
    "        'max_depth': max_depth,\n",
    "        'min_samples_split': min_samples_split,\n",
    "        'min_samples_leaf': min_samples_leaf\n",
    "        #'bootstrap': bootstrap\n",
    "       }\n",
    "\n",
    "\n",
    "dtree = DecisionTreeClassifier()"
   ]
  },
  {
   "cell_type": "code",
   "execution_count": 11,
   "metadata": {},
   "outputs": [
    {
     "name": "stdout",
     "output_type": "stream",
     "text": [
      "Fitting 10 folds for each of 24 candidates, totalling 240 fits\n",
      "{'max_depth': 5, 'max_features': 'sqrt', 'min_samples_leaf': 2, 'min_samples_split': 10}\n",
      "0.6645256744033005\n"
     ]
    },
    {
     "name": "stderr",
     "output_type": "stream",
     "text": [
      "[Parallel(n_jobs=-1)]: Done 240 out of 240 | elapsed:    0.6s finished\n"
     ]
    }
   ],
   "source": [
    "# RUN\n",
    "\n",
    "tree_grid = GridSearchCV(dtree, grid, cv = 10, verbose = 1, n_jobs = -1, scoring = \"f1\")\n",
    "tree_grid.fit(X_signature, y)\n",
    "\n",
    "print(tree_grid.best_params_)\n",
    "print(tree_grid.best_score_)"
   ]
  },
  {
   "cell_type": "code",
   "execution_count": 10,
   "metadata": {},
   "outputs": [
    {
     "name": "stderr",
     "output_type": "stream",
     "text": [
      "/Users/alecx/anaconda/lib/python3.6/site-packages/sklearn/utils/deprecation.py:122: FutureWarning: You are accessing a training score ('split0_train_score'), which will not be available by default any more in 0.21. If you need training scores, please set return_train_score=True\n",
      "  warnings.warn(*warn_args, **warn_kwargs)\n",
      "/Users/alecx/anaconda/lib/python3.6/site-packages/sklearn/utils/deprecation.py:122: FutureWarning: You are accessing a training score ('split1_train_score'), which will not be available by default any more in 0.21. If you need training scores, please set return_train_score=True\n",
      "  warnings.warn(*warn_args, **warn_kwargs)\n",
      "/Users/alecx/anaconda/lib/python3.6/site-packages/sklearn/utils/deprecation.py:122: FutureWarning: You are accessing a training score ('split2_train_score'), which will not be available by default any more in 0.21. If you need training scores, please set return_train_score=True\n",
      "  warnings.warn(*warn_args, **warn_kwargs)\n",
      "/Users/alecx/anaconda/lib/python3.6/site-packages/sklearn/utils/deprecation.py:122: FutureWarning: You are accessing a training score ('split3_train_score'), which will not be available by default any more in 0.21. If you need training scores, please set return_train_score=True\n",
      "  warnings.warn(*warn_args, **warn_kwargs)\n",
      "/Users/alecx/anaconda/lib/python3.6/site-packages/sklearn/utils/deprecation.py:122: FutureWarning: You are accessing a training score ('split4_train_score'), which will not be available by default any more in 0.21. If you need training scores, please set return_train_score=True\n",
      "  warnings.warn(*warn_args, **warn_kwargs)\n",
      "/Users/alecx/anaconda/lib/python3.6/site-packages/sklearn/utils/deprecation.py:122: FutureWarning: You are accessing a training score ('split5_train_score'), which will not be available by default any more in 0.21. If you need training scores, please set return_train_score=True\n",
      "  warnings.warn(*warn_args, **warn_kwargs)\n",
      "/Users/alecx/anaconda/lib/python3.6/site-packages/sklearn/utils/deprecation.py:122: FutureWarning: You are accessing a training score ('split6_train_score'), which will not be available by default any more in 0.21. If you need training scores, please set return_train_score=True\n",
      "  warnings.warn(*warn_args, **warn_kwargs)\n",
      "/Users/alecx/anaconda/lib/python3.6/site-packages/sklearn/utils/deprecation.py:122: FutureWarning: You are accessing a training score ('split7_train_score'), which will not be available by default any more in 0.21. If you need training scores, please set return_train_score=True\n",
      "  warnings.warn(*warn_args, **warn_kwargs)\n",
      "/Users/alecx/anaconda/lib/python3.6/site-packages/sklearn/utils/deprecation.py:122: FutureWarning: You are accessing a training score ('split8_train_score'), which will not be available by default any more in 0.21. If you need training scores, please set return_train_score=True\n",
      "  warnings.warn(*warn_args, **warn_kwargs)\n",
      "/Users/alecx/anaconda/lib/python3.6/site-packages/sklearn/utils/deprecation.py:122: FutureWarning: You are accessing a training score ('split9_train_score'), which will not be available by default any more in 0.21. If you need training scores, please set return_train_score=True\n",
      "  warnings.warn(*warn_args, **warn_kwargs)\n",
      "/Users/alecx/anaconda/lib/python3.6/site-packages/sklearn/utils/deprecation.py:122: FutureWarning: You are accessing a training score ('mean_train_score'), which will not be available by default any more in 0.21. If you need training scores, please set return_train_score=True\n",
      "  warnings.warn(*warn_args, **warn_kwargs)\n",
      "/Users/alecx/anaconda/lib/python3.6/site-packages/sklearn/utils/deprecation.py:122: FutureWarning: You are accessing a training score ('std_train_score'), which will not be available by default any more in 0.21. If you need training scores, please set return_train_score=True\n",
      "  warnings.warn(*warn_args, **warn_kwargs)\n"
     ]
    }
   ],
   "source": [
    "# RESULTS\n",
    "\n",
    "cv_results = pd.DataFrame(tree_grid.cv_results_).sort_values(by=\"rank_test_score\")\n",
    "#display(cv_results)"
   ]
  },
  {
   "cell_type": "code",
   "execution_count": 32,
   "metadata": {},
   "outputs": [
    {
     "data": {
      "image/png": "[encoded data removed]",
      "text/plain": [
       "<IPython.core.display.Image object>"
      ]
     },
     "execution_count": 32,
     "metadata": {},
     "output_type": "execute_result"
    }
   ],
   "source": [
    "# PRINT BEST TREE\n",
    "from IPython.display import Image  \n",
    "import pydotplus\n",
    "from sklearn import tree\n",
    "\n",
    "bestTree = DecisionTreeClassifier(max_features = \"sqrt\", max_depth = 3, min_samples_leaf = 5, min_samples_split = 2)\n",
    "bestTree.fit(X_signature, y)\n",
    "\n",
    "# Create DOT data\n",
    "dot_data = tree.export_graphviz(bestTree, out_file=None, \n",
    "                                class_names=[\"Censored\", \"Relapse\"])\n",
    "\n",
    "# Draw graph\n",
    "graph = pydotplus.graph_from_dot_data(dot_data)\n",
    "\n",
    "# Show graph\n",
    "Image(graph.create_png())"
   ]
  },
  {
   "cell_type": "markdown",
   "metadata": {},
   "source": [
    "### Tuning Random Forest\n",
    "\n",
    "Reference: Table from http://blog.kaggle.com/2016/07/21/approaching-almost-any-machine-learning-problem-abhishek-thakur/ used for grid basis"
   ]
  },
  {
   "cell_type": "code",
   "execution_count": 13,
   "metadata": {},
   "outputs": [],
   "source": [
    "# SETUP\n",
    "from sklearn.ensemble import RandomForestClassifier\n",
    "\n",
    "\n",
    "# Hyperparameters\n",
    "criterion = [\"gini\"] # function for split quality measure\n",
    "n_estimators = [500] # Num of trees in Random Forest\n",
    "max_features = ['sqrt'] # Max num of features considered every split\n",
    "max_depth = [3, 4, 5, 6, 7] # Max num of levels in each forest tree\n",
    "min_samples_split = [2, 5, 10] # Min num of samples needed to split a node\n",
    "min_samples_leaf = [2, 5] # Min num of samples needed at every node\n",
    "# Method of selecting samples for training each tree\n",
    "\n",
    "# RandomSearch Grid\n",
    "forest_grid = {\"criterion\" : criterion,\n",
    "               'n_estimators': n_estimators,\n",
    "               'max_features': max_features,\n",
    "               'max_depth': max_depth,\n",
    "               'min_samples_split': min_samples_split,\n",
    "               'min_samples_leaf': min_samples_leaf}\n",
    "\n",
    "rf = RandomForestClassifier()"
   ]
  },
  {
   "cell_type": "code",
   "execution_count": 14,
   "metadata": {},
   "outputs": [
    {
     "name": "stdout",
     "output_type": "stream",
     "text": [
      "Fitting 10 folds for each of 30 candidates, totalling 300 fits\n"
     ]
    },
    {
     "name": "stderr",
     "output_type": "stream",
     "text": [
      "[Parallel(n_jobs=-1)]: Done  42 tasks      | elapsed:   12.9s\n"
     ]
    },
    {
     "ename": "KeyboardInterrupt",
     "evalue": "",
     "output_type": "error",
     "traceback": [
      "\u001b[0;31m---------------------------------------------------------------------------\u001b[0m",
      "\u001b[0;31mKeyboardInterrupt\u001b[0m                         Traceback (most recent call last)",
      "\u001b[0;32m<ipython-input-14-2b272346fdbc>\u001b[0m in \u001b[0;36m<module>\u001b[0;34m()\u001b[0m\n\u001b[1;32m      3\u001b[0m \u001b[0;34m\u001b[0m\u001b[0m\n\u001b[1;32m      4\u001b[0m \u001b[0;31m# Fit rf_random model\u001b[0m\u001b[0;34m\u001b[0m\u001b[0;34m\u001b[0m\u001b[0m\n\u001b[0;32m----> 5\u001b[0;31m \u001b[0mrf_random\u001b[0m\u001b[0;34m.\u001b[0m\u001b[0mfit\u001b[0m\u001b[0;34m(\u001b[0m\u001b[0mX_signature\u001b[0m\u001b[0;34m,\u001b[0m \u001b[0my\u001b[0m\u001b[0;34m)\u001b[0m\u001b[0;34m\u001b[0m\u001b[0m\n\u001b[0m",
      "\u001b[0;32m~/anaconda/lib/python3.6/site-packages/sklearn/model_selection/_search.py\u001b[0m in \u001b[0;36mfit\u001b[0;34m(self, X, y, groups, **fit_params)\u001b[0m\n\u001b[1;32m    637\u001b[0m                                   error_score=self.error_score)\n\u001b[1;32m    638\u001b[0m           for parameters, (train, test) in product(candidate_params,\n\u001b[0;32m--> 639\u001b[0;31m                                                    cv.split(X, y, groups)))\n\u001b[0m\u001b[1;32m    640\u001b[0m \u001b[0;34m\u001b[0m\u001b[0m\n\u001b[1;32m    641\u001b[0m         \u001b[0;31m# if one choose to see train score, \"out\" will contain train score info\u001b[0m\u001b[0;34m\u001b[0m\u001b[0;34m\u001b[0m\u001b[0m\n",
      "\u001b[0;32m~/anaconda/lib/python3.6/site-packages/sklearn/externals/joblib/parallel.py\u001b[0m in \u001b[0;36m__call__\u001b[0;34m(self, iterable)\u001b[0m\n\u001b[1;32m    787\u001b[0m                 \u001b[0;31m# consumption.\u001b[0m\u001b[0;34m\u001b[0m\u001b[0;34m\u001b[0m\u001b[0m\n\u001b[1;32m    788\u001b[0m                 \u001b[0mself\u001b[0m\u001b[0;34m.\u001b[0m\u001b[0m_iterating\u001b[0m \u001b[0;34m=\u001b[0m \u001b[0;32mFalse\u001b[0m\u001b[0;34m\u001b[0m\u001b[0m\n\u001b[0;32m--> 789\u001b[0;31m             \u001b[0mself\u001b[0m\u001b[0;34m.\u001b[0m\u001b[0mretrieve\u001b[0m\u001b[0;34m(\u001b[0m\u001b[0;34m)\u001b[0m\u001b[0;34m\u001b[0m\u001b[0m\n\u001b[0m\u001b[1;32m    790\u001b[0m             \u001b[0;31m# Make sure that we get a last message telling us we are done\u001b[0m\u001b[0;34m\u001b[0m\u001b[0;34m\u001b[0m\u001b[0m\n\u001b[1;32m    791\u001b[0m             \u001b[0melapsed_time\u001b[0m \u001b[0;34m=\u001b[0m \u001b[0mtime\u001b[0m\u001b[0;34m.\u001b[0m\u001b[0mtime\u001b[0m\u001b[0;34m(\u001b[0m\u001b[0;34m)\u001b[0m \u001b[0;34m-\u001b[0m \u001b[0mself\u001b[0m\u001b[0;34m.\u001b[0m\u001b[0m_start_time\u001b[0m\u001b[0;34m\u001b[0m\u001b[0m\n",
      "\u001b[0;32m~/anaconda/lib/python3.6/site-packages/sklearn/externals/joblib/parallel.py\u001b[0m in \u001b[0;36mretrieve\u001b[0;34m(self)\u001b[0m\n\u001b[1;32m    697\u001b[0m             \u001b[0;32mtry\u001b[0m\u001b[0;34m:\u001b[0m\u001b[0;34m\u001b[0m\u001b[0m\n\u001b[1;32m    698\u001b[0m                 \u001b[0;32mif\u001b[0m \u001b[0mgetattr\u001b[0m\u001b[0;34m(\u001b[0m\u001b[0mself\u001b[0m\u001b[0;34m.\u001b[0m\u001b[0m_backend\u001b[0m\u001b[0;34m,\u001b[0m \u001b[0;34m'supports_timeout'\u001b[0m\u001b[0;34m,\u001b[0m \u001b[0;32mFalse\u001b[0m\u001b[0;34m)\u001b[0m\u001b[0;34m:\u001b[0m\u001b[0;34m\u001b[0m\u001b[0m\n\u001b[0;32m--> 699\u001b[0;31m                     \u001b[0mself\u001b[0m\u001b[0;34m.\u001b[0m\u001b[0m_output\u001b[0m\u001b[0;34m.\u001b[0m\u001b[0mextend\u001b[0m\u001b[0;34m(\u001b[0m\u001b[0mjob\u001b[0m\u001b[0;34m.\u001b[0m\u001b[0mget\u001b[0m\u001b[0;34m(\u001b[0m\u001b[0mtimeout\u001b[0m\u001b[0;34m=\u001b[0m\u001b[0mself\u001b[0m\u001b[0;34m.\u001b[0m\u001b[0mtimeout\u001b[0m\u001b[0;34m)\u001b[0m\u001b[0;34m)\u001b[0m\u001b[0;34m\u001b[0m\u001b[0m\n\u001b[0m\u001b[1;32m    700\u001b[0m                 \u001b[0;32melse\u001b[0m\u001b[0;34m:\u001b[0m\u001b[0;34m\u001b[0m\u001b[0m\n\u001b[1;32m    701\u001b[0m                     \u001b[0mself\u001b[0m\u001b[0;34m.\u001b[0m\u001b[0m_output\u001b[0m\u001b[0;34m.\u001b[0m\u001b[0mextend\u001b[0m\u001b[0;34m(\u001b[0m\u001b[0mjob\u001b[0m\u001b[0;34m.\u001b[0m\u001b[0mget\u001b[0m\u001b[0;34m(\u001b[0m\u001b[0;34m)\u001b[0m\u001b[0;34m)\u001b[0m\u001b[0;34m\u001b[0m\u001b[0m\n",
      "\u001b[0;32m~/anaconda/lib/python3.6/multiprocessing/pool.py\u001b[0m in \u001b[0;36mget\u001b[0;34m(self, timeout)\u001b[0m\n\u001b[1;32m    636\u001b[0m \u001b[0;34m\u001b[0m\u001b[0m\n\u001b[1;32m    637\u001b[0m     \u001b[0;32mdef\u001b[0m \u001b[0mget\u001b[0m\u001b[0;34m(\u001b[0m\u001b[0mself\u001b[0m\u001b[0;34m,\u001b[0m \u001b[0mtimeout\u001b[0m\u001b[0;34m=\u001b[0m\u001b[0;32mNone\u001b[0m\u001b[0;34m)\u001b[0m\u001b[0;34m:\u001b[0m\u001b[0;34m\u001b[0m\u001b[0m\n\u001b[0;32m--> 638\u001b[0;31m         \u001b[0mself\u001b[0m\u001b[0;34m.\u001b[0m\u001b[0mwait\u001b[0m\u001b[0;34m(\u001b[0m\u001b[0mtimeout\u001b[0m\u001b[0;34m)\u001b[0m\u001b[0;34m\u001b[0m\u001b[0m\n\u001b[0m\u001b[1;32m    639\u001b[0m         \u001b[0;32mif\u001b[0m \u001b[0;32mnot\u001b[0m \u001b[0mself\u001b[0m\u001b[0;34m.\u001b[0m\u001b[0mready\u001b[0m\u001b[0;34m(\u001b[0m\u001b[0;34m)\u001b[0m\u001b[0;34m:\u001b[0m\u001b[0;34m\u001b[0m\u001b[0m\n\u001b[1;32m    640\u001b[0m             \u001b[0;32mraise\u001b[0m \u001b[0mTimeoutError\u001b[0m\u001b[0;34m\u001b[0m\u001b[0m\n",
      "\u001b[0;32m~/anaconda/lib/python3.6/multiprocessing/pool.py\u001b[0m in \u001b[0;36mwait\u001b[0;34m(self, timeout)\u001b[0m\n\u001b[1;32m    633\u001b[0m \u001b[0;34m\u001b[0m\u001b[0m\n\u001b[1;32m    634\u001b[0m     \u001b[0;32mdef\u001b[0m \u001b[0mwait\u001b[0m\u001b[0;34m(\u001b[0m\u001b[0mself\u001b[0m\u001b[0;34m,\u001b[0m \u001b[0mtimeout\u001b[0m\u001b[0;34m=\u001b[0m\u001b[0;32mNone\u001b[0m\u001b[0;34m)\u001b[0m\u001b[0;34m:\u001b[0m\u001b[0;34m\u001b[0m\u001b[0m\n\u001b[0;32m--> 635\u001b[0;31m         \u001b[0mself\u001b[0m\u001b[0;34m.\u001b[0m\u001b[0m_event\u001b[0m\u001b[0;34m.\u001b[0m\u001b[0mwait\u001b[0m\u001b[0;34m(\u001b[0m\u001b[0mtimeout\u001b[0m\u001b[0;34m)\u001b[0m\u001b[0;34m\u001b[0m\u001b[0m\n\u001b[0m\u001b[1;32m    636\u001b[0m \u001b[0;34m\u001b[0m\u001b[0m\n\u001b[1;32m    637\u001b[0m     \u001b[0;32mdef\u001b[0m \u001b[0mget\u001b[0m\u001b[0;34m(\u001b[0m\u001b[0mself\u001b[0m\u001b[0;34m,\u001b[0m \u001b[0mtimeout\u001b[0m\u001b[0;34m=\u001b[0m\u001b[0;32mNone\u001b[0m\u001b[0;34m)\u001b[0m\u001b[0;34m:\u001b[0m\u001b[0;34m\u001b[0m\u001b[0m\n",
      "\u001b[0;32m~/anaconda/lib/python3.6/threading.py\u001b[0m in \u001b[0;36mwait\u001b[0;34m(self, timeout)\u001b[0m\n\u001b[1;32m    549\u001b[0m             \u001b[0msignaled\u001b[0m \u001b[0;34m=\u001b[0m \u001b[0mself\u001b[0m\u001b[0;34m.\u001b[0m\u001b[0m_flag\u001b[0m\u001b[0;34m\u001b[0m\u001b[0m\n\u001b[1;32m    550\u001b[0m             \u001b[0;32mif\u001b[0m \u001b[0;32mnot\u001b[0m \u001b[0msignaled\u001b[0m\u001b[0;34m:\u001b[0m\u001b[0;34m\u001b[0m\u001b[0m\n\u001b[0;32m--> 551\u001b[0;31m                 \u001b[0msignaled\u001b[0m \u001b[0;34m=\u001b[0m \u001b[0mself\u001b[0m\u001b[0;34m.\u001b[0m\u001b[0m_cond\u001b[0m\u001b[0;34m.\u001b[0m\u001b[0mwait\u001b[0m\u001b[0;34m(\u001b[0m\u001b[0mtimeout\u001b[0m\u001b[0;34m)\u001b[0m\u001b[0;34m\u001b[0m\u001b[0m\n\u001b[0m\u001b[1;32m    552\u001b[0m             \u001b[0;32mreturn\u001b[0m \u001b[0msignaled\u001b[0m\u001b[0;34m\u001b[0m\u001b[0m\n\u001b[1;32m    553\u001b[0m \u001b[0;34m\u001b[0m\u001b[0m\n",
      "\u001b[0;32m~/anaconda/lib/python3.6/threading.py\u001b[0m in \u001b[0;36mwait\u001b[0;34m(self, timeout)\u001b[0m\n\u001b[1;32m    293\u001b[0m         \u001b[0;32mtry\u001b[0m\u001b[0;34m:\u001b[0m    \u001b[0;31m# restore state no matter what (e.g., KeyboardInterrupt)\u001b[0m\u001b[0;34m\u001b[0m\u001b[0m\n\u001b[1;32m    294\u001b[0m             \u001b[0;32mif\u001b[0m \u001b[0mtimeout\u001b[0m \u001b[0;32mis\u001b[0m \u001b[0;32mNone\u001b[0m\u001b[0;34m:\u001b[0m\u001b[0;34m\u001b[0m\u001b[0m\n\u001b[0;32m--> 295\u001b[0;31m                 \u001b[0mwaiter\u001b[0m\u001b[0;34m.\u001b[0m\u001b[0macquire\u001b[0m\u001b[0;34m(\u001b[0m\u001b[0;34m)\u001b[0m\u001b[0;34m\u001b[0m\u001b[0m\n\u001b[0m\u001b[1;32m    296\u001b[0m                 \u001b[0mgotit\u001b[0m \u001b[0;34m=\u001b[0m \u001b[0;32mTrue\u001b[0m\u001b[0;34m\u001b[0m\u001b[0m\n\u001b[1;32m    297\u001b[0m             \u001b[0;32melse\u001b[0m\u001b[0;34m:\u001b[0m\u001b[0;34m\u001b[0m\u001b[0m\n",
      "\u001b[0;31mKeyboardInterrupt\u001b[0m: "
     ]
    }
   ],
   "source": [
    "# RUN\n",
    "rf_random = GridSearchCV(rf, forest_grid, cv = 10, verbose = 1, scoring = \"f1\", n_jobs = -1)\n",
    "\n",
    "# Fit rf_random model\n",
    "rf_random.fit(X_signature, y)\n"
   ]
  },
  {
   "cell_type": "code",
   "execution_count": null,
   "metadata": {},
   "outputs": [],
   "source": [
    "print(rf_random.best_params_)\n",
    "print(rf_random.best_score_)"
   ]
  },
  {
   "cell_type": "code",
   "execution_count": null,
   "metadata": {},
   "outputs": [],
   "source": [
    "rf_cv_results = pd.DataFrame(rf_random.cv_results_)\n",
    "display(rf_cv_results.sort_values(by=\"rank_test_score\").drop(rf_cv_results.columns[0:5], axis = 1))\n",
    "rf_cv_results.to_pickle(\"RFSweep3\")\n"
   ]
  },
  {
   "cell_type": "markdown",
   "metadata": {},
   "source": [
    "## Tuning SVMs and LR with X_signature\n",
    "\n",
    "Results:\n",
    "rbfSVM - {'C': 10, 'gamma': 0.01}, F1 = 0.94\n",
    "\n",
    "L1SVM - {'C': 10}, F1 = 0.93\n",
    "\n",
    "L2SVM - {'C': 0.1}, F1 = 0.99\n",
    "\n",
    "LR - {'C': 1, 'penalty': 'l2'}, F1 = 0.99\n",
    "\n"
   ]
  },
  {
   "cell_type": "code",
   "execution_count": 15,
   "metadata": {},
   "outputs": [
    {
     "name": "stdout",
     "output_type": "stream",
     "text": [
      "Fitting 10 folds for each of 42 candidates, totalling 420 fits\n",
      "{'C': 10, 'gamma': 0.01}\n",
      "0.8651162790697674\n"
     ]
    },
    {
     "name": "stderr",
     "output_type": "stream",
     "text": [
      "[Parallel(n_jobs=-1)]: Done 420 out of 420 | elapsed:    1.2s finished\n"
     ]
    }
   ],
   "source": [
    "# RBFSVM\n",
    "rbfSVM = SVC(kernel = \"rbf\")\n",
    "\n",
    "# Hyperparameters\n",
    "rbf_C = [0.0001, 0.001, 0.01, 0.1, 1, 10]\n",
    "rbf_gamma = [0.0001, 0.001, 0.01, 0.1, 1, 10, \"auto\"]\n",
    "rbf_grid = {\"C\" : rbf_C, \n",
    "            \"gamma\" : rbf_gamma}\n",
    "\n",
    "# GRIDSEARCH\n",
    "rbf_search = GridSearchCV(rbfSVM, rbf_grid, cv = 10, verbose = 1, scoring = \"accuracy\", n_jobs = -1)\n",
    "rbf_search.fit(X_signature, y)\n",
    "\n",
    "print(rbf_search.best_params_)\n",
    "print(rbf_search.best_score_)"
   ]
  },
  {
   "cell_type": "code",
   "execution_count": 16,
   "metadata": {},
   "outputs": [
    {
     "name": "stdout",
     "output_type": "stream",
     "text": [
      "Fitting 10 folds for each of 6 candidates, totalling 60 fits\n",
      "{'C': 0.1}\n",
      "0.8744186046511628\n"
     ]
    },
    {
     "name": "stderr",
     "output_type": "stream",
     "text": [
      "[Parallel(n_jobs=-1)]: Done  60 out of  60 | elapsed:    0.2s finished\n"
     ]
    }
   ],
   "source": [
    "# L1SVM\n",
    "L1SVM = LinearSVC(penalty = \"l1\", dual = False)\n",
    "\n",
    "# Hyperparameters\n",
    "L1_C = [0.0001, 0.001, 0.01, 0.1, 1, 10]\n",
    "L1_grid = {\"C\" : L1_C}\n",
    "\n",
    "# GRIDSEARCH\n",
    "L1_search = GridSearchCV(L1SVM, L1_grid, cv = 10, verbose = 1, scoring = \"accuracy\", n_jobs = -1)\n",
    "L1_search.fit(X_signature, y)\n",
    "\n",
    "print(L1_search.best_params_)\n",
    "print(L1_search.best_score_)"
   ]
  },
  {
   "cell_type": "code",
   "execution_count": 17,
   "metadata": {
    "scrolled": true
   },
   "outputs": [
    {
     "name": "stdout",
     "output_type": "stream",
     "text": [
      "Fitting 10 folds for each of 6 candidates, totalling 60 fits\n",
      "{'C': 0.1}\n",
      "0.8930232558139535\n"
     ]
    },
    {
     "name": "stderr",
     "output_type": "stream",
     "text": [
      "[Parallel(n_jobs=-1)]: Done  60 out of  60 | elapsed:    0.2s finished\n"
     ]
    }
   ],
   "source": [
    "# L2SVM\n",
    "L2SVM = LinearSVC(penalty = \"l2\")\n",
    "\n",
    "# Hyperparameters\n",
    "L2_C = [0.0001, 0.001, 0.01, 0.1, 1, 10]\n",
    "L2_grid = {\"C\" : L2_C}\n",
    "\n",
    "# GRIDSEARCH\n",
    "L2_search = GridSearchCV(L2SVM, L2_grid, cv = 10, verbose = 1, scoring = \"accuracy\", n_jobs = -1)\n",
    "L2_search.fit(X_signature, y)\n",
    "\n",
    "print(L2_search.best_params_)\n",
    "print(L2_search.best_score_)"
   ]
  },
  {
   "cell_type": "code",
   "execution_count": 18,
   "metadata": {},
   "outputs": [
    {
     "name": "stdout",
     "output_type": "stream",
     "text": [
      "Fitting 10 folds for each of 12 candidates, totalling 120 fits\n"
     ]
    },
    {
     "name": "stderr",
     "output_type": "stream",
     "text": [
      "/Users/alecx/anaconda/lib/python3.6/site-packages/sklearn/metrics/classification.py:1135: UndefinedMetricWarning: F-score is ill-defined and being set to 0.0 due to no predicted samples.\n",
      "  'precision', 'predicted', average, warn_for)\n",
      "/Users/alecx/anaconda/lib/python3.6/site-packages/sklearn/metrics/classification.py:1135: UndefinedMetricWarning: F-score is ill-defined and being set to 0.0 due to no predicted samples.\n",
      "  'precision', 'predicted', average, warn_for)\n",
      "/Users/alecx/anaconda/lib/python3.6/site-packages/sklearn/metrics/classification.py:1135: UndefinedMetricWarning: F-score is ill-defined and being set to 0.0 due to no predicted samples.\n",
      "  'precision', 'predicted', average, warn_for)\n",
      "/Users/alecx/anaconda/lib/python3.6/site-packages/sklearn/metrics/classification.py:1135: UndefinedMetricWarning: F-score is ill-defined and being set to 0.0 due to no predicted samples.\n",
      "  'precision', 'predicted', average, warn_for)\n",
      "/Users/alecx/anaconda/lib/python3.6/site-packages/sklearn/metrics/classification.py:1135: UndefinedMetricWarning: F-score is ill-defined and being set to 0.0 due to no predicted samples.\n",
      "  'precision', 'predicted', average, warn_for)\n",
      "/Users/alecx/anaconda/lib/python3.6/site-packages/sklearn/metrics/classification.py:1135: UndefinedMetricWarning: F-score is ill-defined and being set to 0.0 due to no predicted samples.\n",
      "  'precision', 'predicted', average, warn_for)\n",
      "/Users/alecx/anaconda/lib/python3.6/site-packages/sklearn/metrics/classification.py:1135: UndefinedMetricWarning: F-score is ill-defined and being set to 0.0 due to no predicted samples.\n",
      "  'precision', 'predicted', average, warn_for)\n",
      "/Users/alecx/anaconda/lib/python3.6/site-packages/sklearn/metrics/classification.py:1135: UndefinedMetricWarning: F-score is ill-defined and being set to 0.0 due to no predicted samples.\n",
      "  'precision', 'predicted', average, warn_for)\n",
      "/Users/alecx/anaconda/lib/python3.6/site-packages/sklearn/metrics/classification.py:1135: UndefinedMetricWarning: F-score is ill-defined and being set to 0.0 due to no predicted samples.\n",
      "  'precision', 'predicted', average, warn_for)\n",
      "/Users/alecx/anaconda/lib/python3.6/site-packages/sklearn/metrics/classification.py:1135: UndefinedMetricWarning: F-score is ill-defined and being set to 0.0 due to no predicted samples.\n",
      "  'precision', 'predicted', average, warn_for)\n",
      "/Users/alecx/anaconda/lib/python3.6/site-packages/sklearn/metrics/classification.py:1135: UndefinedMetricWarning: F-score is ill-defined and being set to 0.0 due to no predicted samples.\n",
      "  'precision', 'predicted', average, warn_for)\n",
      "/Users/alecx/anaconda/lib/python3.6/site-packages/sklearn/metrics/classification.py:1135: UndefinedMetricWarning: F-score is ill-defined and being set to 0.0 due to no predicted samples.\n",
      "  'precision', 'predicted', average, warn_for)\n",
      "/Users/alecx/anaconda/lib/python3.6/site-packages/sklearn/metrics/classification.py:1135: UndefinedMetricWarning: F-score is ill-defined and being set to 0.0 due to no predicted samples.\n",
      "  'precision', 'predicted', average, warn_for)\n",
      "/Users/alecx/anaconda/lib/python3.6/site-packages/sklearn/metrics/classification.py:1135: UndefinedMetricWarning: F-score is ill-defined and being set to 0.0 due to no predicted samples.\n",
      "  'precision', 'predicted', average, warn_for)\n",
      "/Users/alecx/anaconda/lib/python3.6/site-packages/sklearn/metrics/classification.py:1135: UndefinedMetricWarning: F-score is ill-defined and being set to 0.0 due to no predicted samples.\n",
      "  'precision', 'predicted', average, warn_for)\n",
      "/Users/alecx/anaconda/lib/python3.6/site-packages/sklearn/metrics/classification.py:1135: UndefinedMetricWarning: F-score is ill-defined and being set to 0.0 due to no predicted samples.\n",
      "  'precision', 'predicted', average, warn_for)\n",
      "/Users/alecx/anaconda/lib/python3.6/site-packages/sklearn/metrics/classification.py:1135: UndefinedMetricWarning: F-score is ill-defined and being set to 0.0 due to no predicted samples.\n",
      "  'precision', 'predicted', average, warn_for)\n",
      "/Users/alecx/anaconda/lib/python3.6/site-packages/sklearn/metrics/classification.py:1135: UndefinedMetricWarning: F-score is ill-defined and being set to 0.0 due to no predicted samples.\n",
      "  'precision', 'predicted', average, warn_for)\n",
      "/Users/alecx/anaconda/lib/python3.6/site-packages/sklearn/metrics/classification.py:1135: UndefinedMetricWarning: F-score is ill-defined and being set to 0.0 due to no predicted samples.\n",
      "  'precision', 'predicted', average, warn_for)\n",
      "/Users/alecx/anaconda/lib/python3.6/site-packages/sklearn/metrics/classification.py:1135: UndefinedMetricWarning: F-score is ill-defined and being set to 0.0 due to no predicted samples.\n",
      "  'precision', 'predicted', average, warn_for)\n",
      "/Users/alecx/anaconda/lib/python3.6/site-packages/sklearn/metrics/classification.py:1135: UndefinedMetricWarning: F-score is ill-defined and being set to 0.0 due to no predicted samples.\n",
      "  'precision', 'predicted', average, warn_for)\n",
      "/Users/alecx/anaconda/lib/python3.6/site-packages/sklearn/metrics/classification.py:1135: UndefinedMetricWarning: F-score is ill-defined and being set to 0.0 due to no predicted samples.\n",
      "  'precision', 'predicted', average, warn_for)\n",
      "/Users/alecx/anaconda/lib/python3.6/site-packages/sklearn/metrics/classification.py:1135: UndefinedMetricWarning: F-score is ill-defined and being set to 0.0 due to no predicted samples.\n",
      "  'precision', 'predicted', average, warn_for)\n",
      "/Users/alecx/anaconda/lib/python3.6/site-packages/sklearn/metrics/classification.py:1135: UndefinedMetricWarning: F-score is ill-defined and being set to 0.0 due to no predicted samples.\n",
      "  'precision', 'predicted', average, warn_for)\n",
      "/Users/alecx/anaconda/lib/python3.6/site-packages/sklearn/metrics/classification.py:1135: UndefinedMetricWarning: F-score is ill-defined and being set to 0.0 due to no predicted samples.\n",
      "  'precision', 'predicted', average, warn_for)\n",
      "/Users/alecx/anaconda/lib/python3.6/site-packages/sklearn/metrics/classification.py:1135: UndefinedMetricWarning: F-score is ill-defined and being set to 0.0 due to no predicted samples.\n",
      "  'precision', 'predicted', average, warn_for)\n",
      "/Users/alecx/anaconda/lib/python3.6/site-packages/sklearn/metrics/classification.py:1135: UndefinedMetricWarning: F-score is ill-defined and being set to 0.0 due to no predicted samples.\n",
      "  'precision', 'predicted', average, warn_for)\n",
      "/Users/alecx/anaconda/lib/python3.6/site-packages/sklearn/metrics/classification.py:1135: UndefinedMetricWarning: F-score is ill-defined and being set to 0.0 due to no predicted samples.\n",
      "  'precision', 'predicted', average, warn_for)\n",
      "/Users/alecx/anaconda/lib/python3.6/site-packages/sklearn/metrics/classification.py:1135: UndefinedMetricWarning: F-score is ill-defined and being set to 0.0 due to no predicted samples.\n",
      "  'precision', 'predicted', average, warn_for)\n",
      "/Users/alecx/anaconda/lib/python3.6/site-packages/sklearn/metrics/classification.py:1135: UndefinedMetricWarning: F-score is ill-defined and being set to 0.0 due to no predicted samples.\n",
      "  'precision', 'predicted', average, warn_for)\n"
     ]
    },
    {
     "name": "stdout",
     "output_type": "stream",
     "text": [
      "{'C': 1, 'penalty': 'l2'}\n",
      "0.9002679111816465\n"
     ]
    },
    {
     "name": "stderr",
     "output_type": "stream",
     "text": [
      "[Parallel(n_jobs=-1)]: Done 120 out of 120 | elapsed:    0.4s finished\n"
     ]
    }
   ],
   "source": [
    "# Logistic Regression\n",
    "LR = LogisticRegression()\n",
    "\n",
    "# Hyperparameters\n",
    "LR_penalty = [\"l1\", \"l2\"]\n",
    "LR_C = [0.0001, 0.001, 0.01, 0.1, 1, 10]\n",
    "LR_grid = {\"penalty\" : LR_penalty, \"C\" : LR_C}\n",
    "\n",
    "# GRIDSEARCH\n",
    "LR_search = GridSearchCV(LR, LR_grid, cv = 10, verbose = 1, scoring = \"f1\", n_jobs = -1)\n",
    "LR_search.fit(X_signature, y)\n",
    "\n",
    "print(LR_search.best_params_)\n",
    "print(LR_search.best_score_)"
   ]
  },
  {
   "cell_type": "markdown",
   "metadata": {},
   "source": [
    "## Final Test with multivariate feature selection\n",
    "locally linear embedding\n",
    "\n",
    "* Inner loop feature selection from X_250\n",
    "* Tuned models\n",
    "* 10 times 10-fold stratified cross validation"
   ]
  },
  {
   "cell_type": "code",
   "execution_count": 28,
   "metadata": {},
   "outputs": [],
   "source": [
    "from sklearn.feature_selection import SelectFromModel\n",
    "from sklearn.manifold import Isomap\n",
    "from sklearn.decomposition import PCA\n"
   ]
  },
  {
   "cell_type": "code",
   "execution_count": 29,
   "metadata": {},
   "outputs": [],
   "source": [
    "# SET UP\n",
    "\n",
    "k_fold = RepeatedStratifiedKFold(10, n_repeats = 5, random_state = 100)\n",
    "\n",
    "finalClassifiers = {SVC(kernel = \"rbf\", gamma = 0.01, C=10) : [[],[],[]],\n",
    "           \n",
    "                   LinearSVC(penalty = \"l1\", dual = False, C=0.1) : [[],[],[]], \n",
    "                \n",
    "                   LinearSVC(penalty = \"l2\", C=0.1): [[],[],[]], \n",
    "                    \n",
    "                   LogisticRegression(penalty = \"l2\") : [[],[],[]],\n",
    "\n",
    "                   RandomForestClassifier(criterion = \"gini\", max_depth = 5, max_features = 'sqrt', min_samples_leaf = 2,\n",
    "                                          min_samples_split = 2, n_estimators = 300) : [[],[],[]]\n",
    "                   }\n"
   ]
  },
  {
   "cell_type": "code",
   "execution_count": 30,
   "metadata": {
    "scrolled": true
   },
   "outputs": [
    {
     "data": {
      "application/vnd.jupyter.widget-view+json": {
       "model_id": "d840e28f0bec4df38523104b8ff76670",
       "version_major": 2,
       "version_minor": 0
      },
      "text/plain": [
       "HBox(children=(IntProgress(value=1, bar_style='info', max=1), HTML(value='')))"
      ]
     },
     "metadata": {},
     "output_type": "display_data"
    }
   ],
   "source": [
    "# Outer loop is each fold, inner loop is each classifier tested on that fold\n",
    "\n",
    "k = 1\n",
    "for k, (train, test) in tqdm_notebook(enumerate(k_fold.split(X_250, y))):\n",
    "    \n",
    "    # Multivariate feature selection with L1 Reg Linear SVM\n",
    "    X_train_L1 = X_250.iloc[train].copy()\n",
    "    X_test_L1 = X_250.iloc[test].copy()\n",
    "    L1_SVM = LinearSVC(penalty = \"l1\", C = 1.0, dual=False, random_state = 100)\n",
    "    bestGetter = SelectFromModel(L1_SVM, \"median\")\n",
    "    X_train_L1 = bestGetter.fit_transform(X_train_L1, y.iloc[train])\n",
    "    X_test_L1 = bestGetter.transform(X_test_L1)\n",
    "    pca = PCA(n_components = 20)\n",
    "    #X_train_L1 = pca.fit_transform(X_train_L1)\n",
    "    #X_test_L1 = pca.transform(X_test_L1)\n",
    "    \n",
    "    # Isomap\n",
    "    X_train_isomap = X_250.iloc[train].copy()\n",
    "    X_test_isomap = X_250.iloc[test].copy()\n",
    "    isomapper = Isomap(n_components = 50)\n",
    "    X_train_isomap = isomapper.fit_transform(X_train_isomap)\n",
    "    X_test_isomap = isomapper.transform(X_test_isomap)\n",
    "    \n",
    "    for clf in finalClassifiers.keys():\n",
    "        \n",
    "        # L1\n",
    "        clf.fit(X_train_L1, y.iloc[train])\n",
    "        y_pred = clf.predict(X_test_L1)\n",
    "        accuracy = accuracy_score(y.iloc[test], y_pred)\n",
    "        roc_auc = roc_auc_score(y.iloc[test], y_pred)\n",
    "        f1 = f1_score(y.iloc[test], y_pred)\n",
    "        finalClassifiers[clf][0].append(accuracy)\n",
    "        finalClassifiers[clf][1].append(roc_auc)\n",
    "        finalClassifiers[clf][2].append(f1)\n",
    "        '''\n",
    "        \n",
    "        # Isomap\n",
    "        clf.fit(X_train_isomap, y.iloc[train])\n",
    "        y_pred = clf.predict(X_test_isomap)\n",
    "        accuracy = accuracy_score(y.iloc[test], y_pred)\n",
    "        roc_auc = roc_auc_score(y.iloc[test], y_pred)\n",
    "        f1 = f1_score(y.iloc[test], y_pred)\n",
    "        finalClassifiers[clf][0].append(accuracy)\n",
    "        finalClassifiers[clf][1].append(roc_auc)\n",
    "        finalClassifiers[clf][2].append(f1)\n",
    "        '''"
   ]
  },
  {
   "cell_type": "code",
   "execution_count": 31,
   "metadata": {
    "scrolled": false
   },
   "outputs": [
    {
     "data": {
      "text/html": [
       "<div>\n",
       "<style scoped>\n",
       "    .dataframe tbody tr th:only-of-type {\n",
       "        vertical-align: middle;\n",
       "    }\n",
       "\n",
       "    .dataframe tbody tr th {\n",
       "        vertical-align: top;\n",
       "    }\n",
       "\n",
       "    .dataframe thead th {\n",
       "        text-align: right;\n",
       "    }\n",
       "</style>\n",
       "<table border=\"1\" class=\"dataframe\">\n",
       "  <thead>\n",
       "    <tr style=\"text-align: right;\">\n",
       "      <th></th>\n",
       "      <th>RBF-SVM</th>\n",
       "      <th>L1-SVM</th>\n",
       "      <th>L2-SVM</th>\n",
       "      <th>L2-LR</th>\n",
       "      <th>RF</th>\n",
       "    </tr>\n",
       "  </thead>\n",
       "  <tbody>\n",
       "    <tr>\n",
       "      <th>Acc</th>\n",
       "      <td>0.745238</td>\n",
       "      <td>0.793680</td>\n",
       "      <td>0.806797</td>\n",
       "      <td>0.817013</td>\n",
       "      <td>0.701602</td>\n",
       "    </tr>\n",
       "    <tr>\n",
       "      <th>AUC</th>\n",
       "      <td>0.744909</td>\n",
       "      <td>0.794182</td>\n",
       "      <td>0.807545</td>\n",
       "      <td>0.817636</td>\n",
       "      <td>0.701455</td>\n",
       "    </tr>\n",
       "    <tr>\n",
       "      <th>F1</th>\n",
       "      <td>0.753431</td>\n",
       "      <td>0.789003</td>\n",
       "      <td>0.801929</td>\n",
       "      <td>0.815203</td>\n",
       "      <td>0.701027</td>\n",
       "    </tr>\n",
       "  </tbody>\n",
       "</table>\n",
       "</div>"
      ],
      "text/plain": [
       "      RBF-SVM    L1-SVM    L2-SVM     L2-LR        RF\n",
       "Acc  0.745238  0.793680  0.806797  0.817013  0.701602\n",
       "AUC  0.744909  0.794182  0.807545  0.817636  0.701455\n",
       "F1   0.753431  0.789003  0.801929  0.815203  0.701027"
      ]
     },
     "metadata": {},
     "output_type": "display_data"
    }
   ],
   "source": [
    "# VIEW RESULTS\n",
    "from statistics import mean\n",
    "\n",
    "results = pd.DataFrame.from_dict(finalClassifiers)\n",
    "results.columns = [\"RBF-SVM\", \"L1-SVM\", \"L2-SVM\", \"L2-LR\", \"RF\"]\n",
    "results.index = [\"Acc\", \"AUC\", \"F1\"]\n",
    "results = results.applymap(lambda x: mean(x))\n",
    "\n",
    "\n",
    "display(results)"
   ]
  },
  {
   "cell_type": "code",
   "execution_count": null,
   "metadata": {},
   "outputs": [],
   "source": []
  }
 ],
 "metadata": {
  "kernelspec": {
   "display_name": "Python 3",
   "language": "python",
   "name": "python3"
  },
  "language_info": {
   "codemirror_mode": {
    "name": "ipython",
    "version": 3
   },
   "file_extension": ".py",
   "mimetype": "text/x-python",
   "name": "python",
   "nbconvert_exporter": "python",
   "pygments_lexer": "ipython3",
   "version": "3.6.6"
  },
  "toc": {
   "nav_menu": {},
   "number_sections": true,
   "sideBar": true,
   "skip_h1_title": true,
   "title_cell": "Table of Contents",
   "title_sidebar": "Contents",
   "toc_cell": true,
   "toc_position": {},
   "toc_section_display": true,
   "toc_window_display": false
  }
 },
 "nbformat": 4,
 "nbformat_minor": 2
}
